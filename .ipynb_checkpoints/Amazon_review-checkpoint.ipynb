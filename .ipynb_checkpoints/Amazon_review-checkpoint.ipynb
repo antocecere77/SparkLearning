{
 "cells": [
  {
   "cell_type": "markdown",
   "metadata": {},
   "source": [
    "# Analisi di 22.5 valutazioni su Amazon"
   ]
  },
  {
   "cell_type": "code",
   "execution_count": 1,
   "metadata": {},
   "outputs": [],
   "source": [
    "from pyspark import SparkConf, SparkContext\n",
    "conf = SparkConf().setAppName(\"AmazonReviews\").setMaster(\"local\")\n",
    "sc = SparkContext.getOrCreate()"
   ]
  },
  {
   "cell_type": "code",
   "execution_count": 2,
   "metadata": {},
   "outputs": [],
   "source": [
    "# Procuriamoci il Dataset\n",
    "# Per prima cosa procuriamoci il dataset scaricandolo il locale, il dataset si trova in formato CSV a questo link, esegui il comando qui sotto per scaricarlo direttamente dal Notebook di DataBricks, che verrà salvato nella directory file:/databricks/driver.\n",
    "# !wget http://snap.stanford.edu/data/amazon/productGraph/categoryFiles/ratings_Books.csv\n",
    "\n",
    "reviewsRDD = sc.textFile(\"ratings_Books.csv\")"
   ]
  },
  {
   "cell_type": "markdown",
   "metadata": {},
   "source": [
    "# Recupero gli elementi"
   ]
  },
  {
   "cell_type": "code",
   "execution_count": 3,
   "metadata": {},
   "outputs": [
    {
     "data": {
      "text/plain": [
       "['AH2L9G3DQHHAJ,0000000116,4.0,1019865600',\n",
       " 'A2IIIDRK3PRRZY,0000000116,1.0,1395619200',\n",
       " 'A1TADCM7YWPQ8M,0000000868,4.0,1031702400',\n",
       " 'AWGH7V0BDOJKB,0000013714,4.0,1383177600',\n",
       " 'A3UTQPQPM4TQO0,0000013714,5.0,1374883200']"
      ]
     },
     "execution_count": 3,
     "metadata": {},
     "output_type": "execute_result"
    }
   ],
   "source": [
    "# Ogni elemento di ogni riga corrisponde a (in ordine):\n",
    "\n",
    "#    Id dell'utente che ha lasciato la valutazione.\n",
    "#    Id del libro recensito.\n",
    "#    Valutazione da 1.0 a 5.0.\n",
    "#    Timestamp di quando è stata lasciata la recensione.\n",
    "\n",
    "# Per ovvi motivi di privacy non ci è possibile risalire ad un utente partendo dal suo ID, mentre per il libro \n",
    "# è possibile farlo aggiungendo l'ID a questo url https://www.amazon.com/dp/, ad esempio per il primo elemento: \n",
    "# https://www.amazon.com/dp/0000000116\n",
    "\n",
    "# NOTA BENE Sì lo so, se hai cliccato sul link ti sei trovato una penna e non un libro come abbiamo detto, \n",
    "# il motivo è che tale penna è stata inserita impropriamente nella categoria libri di Amazon, quindi tutto \n",
    "# in regola per noi :).\n",
    "\n",
    "\n",
    "reviewsRDD.take(5)"
   ]
  },
  {
   "cell_type": "code",
   "execution_count": 4,
   "metadata": {},
   "outputs": [
    {
     "data": {
      "text/plain": [
       "[['AH2L9G3DQHHAJ', '0000000116', '4.0', '1019865600'],\n",
       " ['A2IIIDRK3PRRZY', '0000000116', '1.0', '1395619200'],\n",
       " ['A1TADCM7YWPQ8M', '0000000868', '4.0', '1031702400'],\n",
       " ['AWGH7V0BDOJKB', '0000013714', '4.0', '1383177600'],\n",
       " ['A3UTQPQPM4TQO0', '0000013714', '5.0', '1374883200']]"
      ]
     },
     "execution_count": 4,
     "metadata": {},
     "output_type": "execute_result"
    }
   ],
   "source": [
    "reviewsRDD = reviewsRDD.map(lambda x: x.split(\",\"))\n",
    "reviewsRDD.take(5)"
   ]
  },
  {
   "cell_type": "code",
   "execution_count": 5,
   "metadata": {},
   "outputs": [
    {
     "data": {
      "text/plain": [
       "22507155"
      ]
     },
     "execution_count": 5,
     "metadata": {},
     "output_type": "execute_result"
    }
   ],
   "source": [
    "# Contiamo il numero totale di valutazioni\n",
    "# Per contare il numero di recensioni usiamo semplicemente il metodo .count()\n",
    "\n",
    "reviewsRDD.count()"
   ]
  },
  {
   "cell_type": "markdown",
   "metadata": {},
   "source": [
    "# Quanti libri ci sono nel dataset?"
   ]
  },
  {
   "cell_type": "markdown",
   "metadata": {},
   "source": []
  },
  {
   "cell_type": "code",
   "execution_count": 6,
   "metadata": {},
   "outputs": [
    {
     "data": {
      "text/plain": [
       "['0000000116', '0000000116', '0000000868', '0000013714', '0000013714']"
      ]
     },
     "execution_count": 6,
     "metadata": {},
     "output_type": "execute_result"
    }
   ],
   "source": [
    "booksRDD = reviewsRDD.map(lambda x: x[1])\n",
    "booksRDD.take(5)"
   ]
  },
  {
   "cell_type": "code",
   "execution_count": 7,
   "metadata": {},
   "outputs": [
    {
     "data": {
      "text/plain": [
       "['0001006657', '0001922408', '0002000601', '0002006650', '0002007770']"
      ]
     },
     "execution_count": 7,
     "metadata": {},
     "output_type": "execute_result"
    }
   ],
   "source": [
    "uniqueRDD = booksRDD.distinct()\n",
    "uniqueRDD.take(5)"
   ]
  },
  {
   "cell_type": "code",
   "execution_count": 8,
   "metadata": {},
   "outputs": [
    {
     "data": {
      "text/plain": [
       "2330066"
      ]
     },
     "execution_count": 8,
     "metadata": {},
     "output_type": "execute_result"
    }
   ],
   "source": [
    "uniqueRDD.count()"
   ]
  },
  {
   "cell_type": "code",
   "execution_count": null,
   "metadata": {},
   "outputs": [],
   "source": []
  },
  {
   "cell_type": "code",
   "execution_count": null,
   "metadata": {},
   "outputs": [],
   "source": []
  }
 ],
 "metadata": {
  "kernelspec": {
   "display_name": "Python 3",
   "language": "python",
   "name": "python3"
  },
  "language_info": {
   "codemirror_mode": {
    "name": "ipython",
    "version": 3
   },
   "file_extension": ".py",
   "mimetype": "text/x-python",
   "name": "python",
   "nbconvert_exporter": "python",
   "pygments_lexer": "ipython3",
   "version": "3.7.5"
  }
 },
 "nbformat": 4,
 "nbformat_minor": 4
}
