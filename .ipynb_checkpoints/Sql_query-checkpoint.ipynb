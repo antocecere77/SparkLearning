{
 "cells": [
  {
   "cell_type": "code",
   "execution_count": 1,
   "metadata": {},
   "outputs": [],
   "source": [
    "from pyspark.sql import SparkSession\n",
    "spark = SparkSession.builder.appName(\"DataframSql\").getOrCreate()"
   ]
  },
  {
   "cell_type": "code",
   "execution_count": 2,
   "metadata": {},
   "outputs": [
    {
     "name": "stdout",
     "output_type": "stream",
     "text": [
      "+---------+------+---+------+------+\n",
      "|     name|gender|age|height|weight|\n",
      "+---------+------+---+------+------+\n",
      "| Giuseppe|     M| 23|   174|  70.5|\n",
      "|  Antonio|     M| 25|   179|  68.0|\n",
      "|  Lorenzo|     M| 33|   172|  88.5|\n",
      "|    Luisa|     F| 48|   155|  50.2|\n",
      "|Margheria|     F| 35|   165|  54.3|\n",
      "+---------+------+---+------+------+\n",
      "\n"
     ]
    }
   ],
   "source": [
    "from pyspark.sql.types import *\n",
    "\n",
    "data = [(\"Giuseppe\", \"M\", 23, 174, 70.5),\n",
    "        (\"Antonio\", \"M\", 25, 179, 68.),\n",
    "        (\"Lorenzo\", \"M\", 33, 172, 88.5),\n",
    "        (\"Luisa\", \"F\", 48, 155, 50.2),\n",
    "        (\"Margheria\", \"F\", 35, 165, 54.3)]\n",
    "\n",
    "df = spark.createDataFrame(data, [\"name\", \"gender\", \"age\", \"height\", \"weight\"])\n",
    "df.show()"
   ]
  },
  {
   "cell_type": "code",
   "execution_count": 3,
   "metadata": {},
   "outputs": [],
   "source": [
    "df.createTempView(\"people\")"
   ]
  },
  {
   "cell_type": "code",
   "execution_count": 4,
   "metadata": {},
   "outputs": [],
   "source": [
    "df.createOrReplaceTempView(\"people\")"
   ]
  },
  {
   "cell_type": "code",
   "execution_count": 5,
   "metadata": {},
   "outputs": [
    {
     "name": "stdout",
     "output_type": "stream",
     "text": [
      "+---------+\n",
      "|     name|\n",
      "+---------+\n",
      "| Giuseppe|\n",
      "|  Antonio|\n",
      "|  Lorenzo|\n",
      "|    Luisa|\n",
      "|Margheria|\n",
      "+---------+\n",
      "\n"
     ]
    }
   ],
   "source": [
    "df_sql = spark.sql(\"SELECT name FROM people\")\n",
    "df_sql.show()"
   ]
  },
  {
   "cell_type": "code",
   "execution_count": 6,
   "metadata": {},
   "outputs": [
    {
     "name": "stdout",
     "output_type": "stream",
     "text": [
      "+--------+------+\n",
      "|    name|height|\n",
      "+--------+------+\n",
      "|Giuseppe|   174|\n",
      "| Antonio|   179|\n",
      "| Lorenzo|   172|\n",
      "+--------+------+\n",
      "\n"
     ]
    }
   ],
   "source": [
    "spark.sql(\"Select name, height FROM people where gender='M'\").show()"
   ]
  },
  {
   "cell_type": "code",
   "execution_count": 7,
   "metadata": {},
   "outputs": [
    {
     "name": "stdout",
     "output_type": "stream",
     "text": [
      "+---------+------+---+------+------+\n",
      "|     name|gender|age|height|weight|\n",
      "+---------+------+---+------+------+\n",
      "|    Luisa|     F| 48|   155|  50.2|\n",
      "|Margheria|     F| 35|   165|  54.3|\n",
      "|  Antonio|     M| 25|   179|  68.0|\n",
      "| Giuseppe|     M| 23|   174|  70.5|\n",
      "|  Lorenzo|     M| 33|   172|  88.5|\n",
      "+---------+------+---+------+------+\n",
      "\n"
     ]
    }
   ],
   "source": [
    "spark.sql(\"SELECT * FROM people ORDER BY weight\").show()"
   ]
  },
  {
   "cell_type": "code",
   "execution_count": 8,
   "metadata": {},
   "outputs": [
    {
     "name": "stdout",
     "output_type": "stream",
     "text": [
      "+---------+------+---+------+------+\n",
      "|     name|gender|age|height|weight|\n",
      "+---------+------+---+------+------+\n",
      "|  Lorenzo|     M| 33|   172|  88.5|\n",
      "| Giuseppe|     M| 23|   174|  70.5|\n",
      "|  Antonio|     M| 25|   179|  68.0|\n",
      "|Margheria|     F| 35|   165|  54.3|\n",
      "|    Luisa|     F| 48|   155|  50.2|\n",
      "+---------+------+---+------+------+\n",
      "\n"
     ]
    }
   ],
   "source": [
    "spark.sql(\"SELECT * FROM people ORDER BY weight DESC\").show()"
   ]
  },
  {
   "cell_type": "code",
   "execution_count": 10,
   "metadata": {},
   "outputs": [
    {
     "name": "stdout",
     "output_type": "stream",
     "text": [
      "+---------+------+---+------+------+\n",
      "|     name|gender|age|height|weight|\n",
      "+---------+------+---+------+------+\n",
      "|    Luisa|     F| 48|   155|  50.2|\n",
      "|Margheria|     F| 35|   165|  54.3|\n",
      "|  Antonio|     M| 25|   179|  68.0|\n",
      "+---------+------+---+------+------+\n",
      "\n"
     ]
    }
   ],
   "source": [
    "spark.sql(\"SELECT * FROM people ORDER BY weight LIMIT 3\").show()"
   ]
  },
  {
   "cell_type": "code",
   "execution_count": 11,
   "metadata": {},
   "outputs": [
    {
     "name": "stdout",
     "output_type": "stream",
     "text": [
      "+--------+\n",
      "|count(1)|\n",
      "+--------+\n",
      "|       1|\n",
      "+--------+\n",
      "\n"
     ]
    }
   ],
   "source": [
    "spark.sql(\"SELECT COUNT(*) FROM people WHERE gender = 'M' AND height > 175\").show()"
   ]
  },
  {
   "cell_type": "code",
   "execution_count": 12,
   "metadata": {},
   "outputs": [
    {
     "name": "stdout",
     "output_type": "stream",
     "text": [
      "+-------+\n",
      "|counter|\n",
      "+-------+\n",
      "|      1|\n",
      "+-------+\n",
      "\n"
     ]
    }
   ],
   "source": [
    "spark.sql(\"SELECT COUNT(*) AS counter FROM people WHERE gender = 'M' AND height > 175\").show()"
   ]
  },
  {
   "cell_type": "code",
   "execution_count": 15,
   "metadata": {},
   "outputs": [
    {
     "name": "stdout",
     "output_type": "stream",
     "text": [
      "+-----------------+\n",
      "|       avg_weight|\n",
      "+-----------------+\n",
      "|75.66666666666667|\n",
      "+-----------------+\n",
      "\n"
     ]
    }
   ],
   "source": [
    "spark.sql(\"SELECT avg(weight) AS avg_weight FROM people WHERE gender = 'M'\").show()"
   ]
  },
  {
   "cell_type": "code",
   "execution_count": 16,
   "metadata": {},
   "outputs": [
    {
     "name": "stdout",
     "output_type": "stream",
     "text": [
      "+----------+----------+\n",
      "|max_weight|min_weight|\n",
      "+----------+----------+\n",
      "|      88.5|      68.0|\n",
      "+----------+----------+\n",
      "\n"
     ]
    }
   ],
   "source": [
    "spark.sql(\"SELECT max(weight) AS max_weight, min(weight) AS min_weight FROM people WHERE gender = 'M'\").show()"
   ]
  },
  {
   "cell_type": "code",
   "execution_count": 18,
   "metadata": {},
   "outputs": [
    {
     "name": "stdout",
     "output_type": "stream",
     "text": [
      "+------+---------------------+-----------+-----------+\n",
      "|gender|round(avg(weight), 2)|max(weight)|min(weight)|\n",
      "+------+---------------------+-----------+-----------+\n",
      "|     F|                52.25|       54.3|       50.2|\n",
      "|     M|                75.67|       88.5|       68.0|\n",
      "+------+---------------------+-----------+-----------+\n",
      "\n"
     ]
    }
   ],
   "source": [
    "spark.sql(\"SELECT gender, round(avg(weight), 2), max(weight), min(weight)  FROM people GROUP BY gender\").show()"
   ]
  },
  {
   "cell_type": "code",
   "execution_count": 23,
   "metadata": {},
   "outputs": [],
   "source": [
    "from pyspark.sql import DataFrameWriter\n",
    "\n",
    "df.write.mode('overwrite').saveAsTable(\"people_perm\")"
   ]
  },
  {
   "cell_type": "code",
   "execution_count": 24,
   "metadata": {},
   "outputs": [
    {
     "name": "stdout",
     "output_type": "stream",
     "text": [
      "+---------+------+---+------+------+\n",
      "|     name|gender|age|height|weight|\n",
      "+---------+------+---+------+------+\n",
      "|    Luisa|     F| 48|   155|  50.2|\n",
      "|Margheria|     F| 35|   165|  54.3|\n",
      "| Giuseppe|     M| 23|   174|  70.5|\n",
      "|  Antonio|     M| 25|   179|  68.0|\n",
      "|  Lorenzo|     M| 33|   172|  88.5|\n",
      "+---------+------+---+------+------+\n",
      "\n"
     ]
    }
   ],
   "source": [
    "spark.sql(\"SELECT * FROM people_perm\").show()"
   ]
  }
 ],
 "metadata": {
  "kernelspec": {
   "display_name": "Python 3",
   "language": "python",
   "name": "python3"
  },
  "language_info": {
   "codemirror_mode": {
    "name": "ipython",
    "version": 3
   },
   "file_extension": ".py",
   "mimetype": "text/x-python",
   "name": "python",
   "nbconvert_exporter": "python",
   "pygments_lexer": "ipython3",
   "version": "3.7.5"
  }
 },
 "nbformat": 4,
 "nbformat_minor": 4
}
