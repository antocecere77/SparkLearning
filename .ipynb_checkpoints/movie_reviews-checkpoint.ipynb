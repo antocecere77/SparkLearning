{
 "cells": [
  {
   "cell_type": "markdown",
   "metadata": {},
   "source": [
    "# Analisi di 28 milioni di recensioni di film\n",
    "# Procuriamoci il Dataset"
   ]
  },
  {
   "cell_type": "code",
   "execution_count": 1,
   "metadata": {},
   "outputs": [],
   "source": [
    "# !wget http://files.grouplens.org/datasets/movielens/ml-latest.zip"
   ]
  },
  {
   "cell_type": "markdown",
   "metadata": {},
   "source": [
    "# Inizializziamo Spark"
   ]
  },
  {
   "cell_type": "code",
   "execution_count": 2,
   "metadata": {},
   "outputs": [],
   "source": [
    "from pyspark.sql import SparkSession\n",
    "spark = SparkSession.builder.appName(\"movie_reviews\").getOrCreate()"
   ]
  },
  {
   "cell_type": "markdown",
   "metadata": {},
   "source": [
    "# Importiamo il Dataset in un Dataframe"
   ]
  },
  {
   "cell_type": "code",
   "execution_count": 3,
   "metadata": {},
   "outputs": [
    {
     "name": "stdout",
     "output_type": "stream",
     "text": [
      "+------+-------+------+----------+\n",
      "|   _c0|    _c1|   _c2|       _c3|\n",
      "+------+-------+------+----------+\n",
      "|userId|movieId|rating| timestamp|\n",
      "|     1|    307|   3.5|1256677221|\n",
      "|     1|    481|   3.5|1256677456|\n",
      "|     1|   1091|   1.5|1256677471|\n",
      "|     1|   1257|   4.5|1256677460|\n",
      "|     1|   1449|   4.5|1256677264|\n",
      "|     1|   1590|   2.5|1256677236|\n",
      "|     1|   1591|   1.5|1256677475|\n",
      "|     1|   2134|   4.5|1256677464|\n",
      "|     1|   2478|   4.0|1256677239|\n",
      "|     1|   2840|   3.0|1256677500|\n",
      "|     1|   2986|   2.5|1256677496|\n",
      "|     1|   3020|   4.0|1256677260|\n",
      "|     1|   3424|   4.5|1256677444|\n",
      "|     1|   3698|   3.5|1256677243|\n",
      "|     1|   3826|   2.0|1256677210|\n",
      "|     1|   3893|   3.5|1256677486|\n",
      "|     2|    170|   3.5|1192913581|\n",
      "|     2|    849|   3.5|1192913537|\n",
      "|     2|   1186|   3.5|1192913611|\n",
      "+------+-------+------+----------+\n",
      "only showing top 20 rows\n",
      "\n"
     ]
    }
   ],
   "source": [
    "df = spark.read.load(\"ml-latest/ratings.csv\", format=\"csv\")\n",
    "df.show()"
   ]
  },
  {
   "cell_type": "code",
   "execution_count": 4,
   "metadata": {},
   "outputs": [
    {
     "name": "stdout",
     "output_type": "stream",
     "text": [
      "root\n",
      " |-- _c0: string (nullable = true)\n",
      " |-- _c1: string (nullable = true)\n",
      " |-- _c2: string (nullable = true)\n",
      " |-- _c3: string (nullable = true)\n",
      "\n"
     ]
    }
   ],
   "source": [
    "df.printSchema()"
   ]
  },
  {
   "cell_type": "code",
   "execution_count": 5,
   "metadata": {},
   "outputs": [
    {
     "name": "stdout",
     "output_type": "stream",
     "text": [
      "+------+-------+------+----------+\n",
      "|userId|movieId|rating| timestamp|\n",
      "+------+-------+------+----------+\n",
      "|     1|    307|   3.5|1256677221|\n",
      "|     1|    481|   3.5|1256677456|\n",
      "|     1|   1091|   1.5|1256677471|\n",
      "|     1|   1257|   4.5|1256677460|\n",
      "|     1|   1449|   4.5|1256677264|\n",
      "|     1|   1590|   2.5|1256677236|\n",
      "|     1|   1591|   1.5|1256677475|\n",
      "|     1|   2134|   4.5|1256677464|\n",
      "|     1|   2478|   4.0|1256677239|\n",
      "|     1|   2840|   3.0|1256677500|\n",
      "|     1|   2986|   2.5|1256677496|\n",
      "|     1|   3020|   4.0|1256677260|\n",
      "|     1|   3424|   4.5|1256677444|\n",
      "|     1|   3698|   3.5|1256677243|\n",
      "|     1|   3826|   2.0|1256677210|\n",
      "|     1|   3893|   3.5|1256677486|\n",
      "|     2|    170|   3.5|1192913581|\n",
      "|     2|    849|   3.5|1192913537|\n",
      "|     2|   1186|   3.5|1192913611|\n",
      "|     2|   1235|   3.0|1192913585|\n",
      "+------+-------+------+----------+\n",
      "only showing top 20 rows\n",
      "\n"
     ]
    }
   ],
   "source": [
    "df = spark.read.option(\"header\", \"true\").option(\"inferSchema\", \"true\").csv(\"ml-latest/ratings.csv\")\n",
    "df.show()"
   ]
  },
  {
   "cell_type": "code",
   "execution_count": 6,
   "metadata": {},
   "outputs": [
    {
     "name": "stdout",
     "output_type": "stream",
     "text": [
      "root\n",
      " |-- userId: integer (nullable = true)\n",
      " |-- movieId: integer (nullable = true)\n",
      " |-- rating: double (nullable = true)\n",
      " |-- timestamp: integer (nullable = true)\n",
      "\n"
     ]
    }
   ],
   "source": [
    "df.printSchema()"
   ]
  },
  {
   "cell_type": "markdown",
   "metadata": {},
   "source": [
    "# Correggiamo lo schema"
   ]
  },
  {
   "cell_type": "code",
   "execution_count": 7,
   "metadata": {},
   "outputs": [],
   "source": [
    "from pyspark.sql.types import *\n",
    "\n",
    "data_schema = [StructField('userID', StringType(), True),\n",
    "                StructField('movieID', StringType(), True),\n",
    "                StructField('rating', FloatType(), True),\n",
    "                StructField('timestamp', IntegerType(), True)]\n",
    "\n",
    "schema = StructType(fields=data_schema)"
   ]
  },
  {
   "cell_type": "code",
   "execution_count": 8,
   "metadata": {},
   "outputs": [
    {
     "name": "stdout",
     "output_type": "stream",
     "text": [
      "+------+-------+------+----------+\n",
      "|userID|movieID|rating| timestamp|\n",
      "+------+-------+------+----------+\n",
      "|     1|    307|   3.5|1256677221|\n",
      "|     1|    481|   3.5|1256677456|\n",
      "|     1|   1091|   1.5|1256677471|\n",
      "|     1|   1257|   4.5|1256677460|\n",
      "|     1|   1449|   4.5|1256677264|\n",
      "|     1|   1590|   2.5|1256677236|\n",
      "|     1|   1591|   1.5|1256677475|\n",
      "|     1|   2134|   4.5|1256677464|\n",
      "|     1|   2478|   4.0|1256677239|\n",
      "|     1|   2840|   3.0|1256677500|\n",
      "|     1|   2986|   2.5|1256677496|\n",
      "|     1|   3020|   4.0|1256677260|\n",
      "|     1|   3424|   4.5|1256677444|\n",
      "|     1|   3698|   3.5|1256677243|\n",
      "|     1|   3826|   2.0|1256677210|\n",
      "|     1|   3893|   3.5|1256677486|\n",
      "|     2|    170|   3.5|1192913581|\n",
      "|     2|    849|   3.5|1192913537|\n",
      "|     2|   1186|   3.5|1192913611|\n",
      "|     2|   1235|   3.0|1192913585|\n",
      "+------+-------+------+----------+\n",
      "only showing top 20 rows\n",
      "\n"
     ]
    }
   ],
   "source": [
    "df = spark.read.schema(schema) \\\n",
    "    .option(\"header\", \"true\") \\\n",
    "    .option(\"inferSchema\", \"false\") \\\n",
    "    .csv(\"ml-latest/ratings.csv\")\n",
    "\n",
    "df.show()"
   ]
  },
  {
   "cell_type": "code",
   "execution_count": 9,
   "metadata": {},
   "outputs": [
    {
     "name": "stdout",
     "output_type": "stream",
     "text": [
      "root\n",
      " |-- userID: string (nullable = true)\n",
      " |-- movieID: string (nullable = true)\n",
      " |-- rating: float (nullable = true)\n",
      " |-- timestamp: integer (nullable = true)\n",
      "\n"
     ]
    }
   ],
   "source": [
    "df.printSchema()"
   ]
  },
  {
   "cell_type": "code",
   "execution_count": 10,
   "metadata": {},
   "outputs": [
    {
     "name": "stdout",
     "output_type": "stream",
     "text": [
      "+------+-------+------+----------+\n",
      "|userID|movieID|rating| timestamp|\n",
      "+------+-------+------+----------+\n",
      "|     1|    307|   3.5|2009-10-27|\n",
      "|     1|    481|   3.5|2009-10-27|\n",
      "|     1|   1091|   1.5|2009-10-27|\n",
      "|     1|   1257|   4.5|2009-10-27|\n",
      "|     1|   1449|   4.5|2009-10-27|\n",
      "|     1|   1590|   2.5|2009-10-27|\n",
      "|     1|   1591|   1.5|2009-10-27|\n",
      "|     1|   2134|   4.5|2009-10-27|\n",
      "|     1|   2478|   4.0|2009-10-27|\n",
      "|     1|   2840|   3.0|2009-10-27|\n",
      "|     1|   2986|   2.5|2009-10-27|\n",
      "|     1|   3020|   4.0|2009-10-27|\n",
      "|     1|   3424|   4.5|2009-10-27|\n",
      "|     1|   3698|   3.5|2009-10-27|\n",
      "|     1|   3826|   2.0|2009-10-27|\n",
      "|     1|   3893|   3.5|2009-10-27|\n",
      "|     2|    170|   3.5|2007-10-20|\n",
      "|     2|    849|   3.5|2007-10-20|\n",
      "|     2|   1186|   3.5|2007-10-20|\n",
      "|     2|   1235|   3.0|2007-10-20|\n",
      "+------+-------+------+----------+\n",
      "only showing top 20 rows\n",
      "\n"
     ]
    }
   ],
   "source": [
    "from pyspark.sql.functions import  from_unixtime , to_date\n",
    "\n",
    "df.withColumn('timestamp', to_date(from_unixtime(df[\"timestamp\"]))).show()"
   ]
  },
  {
   "cell_type": "code",
   "execution_count": 11,
   "metadata": {},
   "outputs": [
    {
     "name": "stdout",
     "output_type": "stream",
     "text": [
      "+------+-------+------+-------------------+\n",
      "|userID|movieID|rating|          timestamp|\n",
      "+------+-------+------+-------------------+\n",
      "|     1|    307|   3.5|2009-10-27 22:00:21|\n",
      "|     1|    481|   3.5|2009-10-27 22:04:16|\n",
      "|     1|   1091|   1.5|2009-10-27 22:04:31|\n",
      "|     1|   1257|   4.5|2009-10-27 22:04:20|\n",
      "|     1|   1449|   4.5|2009-10-27 22:01:04|\n",
      "+------+-------+------+-------------------+\n",
      "only showing top 5 rows\n",
      "\n"
     ]
    }
   ],
   "source": [
    "from pyspark.sql.functions import to_utc_timestamp\n",
    "\n",
    "df = df.withColumn('timestamp', to_utc_timestamp(from_unixtime(df[\"timestamp\"]), \"yyyy-MM-dd hh:mm:ss\"))\n",
    "df.show(5)"
   ]
  },
  {
   "cell_type": "code",
   "execution_count": 12,
   "metadata": {},
   "outputs": [
    {
     "name": "stdout",
     "output_type": "stream",
     "text": [
      "root\n",
      " |-- userID: string (nullable = true)\n",
      " |-- movieID: string (nullable = true)\n",
      " |-- rating: float (nullable = true)\n",
      " |-- timestamp: timestamp (nullable = true)\n",
      "\n"
     ]
    }
   ],
   "source": [
    "df.printSchema()"
   ]
  },
  {
   "cell_type": "markdown",
   "metadata": {},
   "source": [
    "# Quante recensioni ci sono esattamente nel dataset?"
   ]
  },
  {
   "cell_type": "code",
   "execution_count": 13,
   "metadata": {},
   "outputs": [
    {
     "name": "stdout",
     "output_type": "stream",
     "text": [
      "27753444\n"
     ]
    }
   ],
   "source": [
    "total_reviews = df.count()\n",
    "print(total_reviews)"
   ]
  },
  {
   "cell_type": "markdown",
   "metadata": {},
   "source": [
    "# Qual è il numero di recensioni medie per utente?"
   ]
  },
  {
   "cell_type": "code",
   "execution_count": 14,
   "metadata": {},
   "outputs": [
    {
     "name": "stdout",
     "output_type": "stream",
     "text": [
      "+---------------+\n",
      "|reviewers_count|\n",
      "+---------------+\n",
      "|         283228|\n",
      "+---------------+\n",
      "\n"
     ]
    }
   ],
   "source": [
    "from pyspark.sql.functions import countDistinct\n",
    "\n",
    "total_unique_reviewers = df.agg(countDistinct(\"userId\").alias(\"reviewers_count\"))\n",
    "total_unique_reviewers.show()"
   ]
  },
  {
   "cell_type": "code",
   "execution_count": 15,
   "metadata": {},
   "outputs": [
    {
     "name": "stdout",
     "output_type": "stream",
     "text": [
      "283228\n"
     ]
    }
   ],
   "source": [
    "total_unique_reviewers = total_unique_reviewers.head()['reviewers_count']\n",
    "print(total_unique_reviewers)"
   ]
  },
  {
   "cell_type": "code",
   "execution_count": 16,
   "metadata": {},
   "outputs": [
    {
     "name": "stdout",
     "output_type": "stream",
     "text": [
      "97.98976089934611\n"
     ]
    }
   ],
   "source": [
    "mean_reviews = total_reviews/total_unique_reviewers\n",
    "print(mean_reviews)"
   ]
  },
  {
   "cell_type": "markdown",
   "metadata": {},
   "source": [
    "# Quale utente ha scritto più recensioni? Quante sono le recensioni che ha scritto? Qual è il voto medio?"
   ]
  },
  {
   "cell_type": "code",
   "execution_count": 17,
   "metadata": {},
   "outputs": [
    {
     "name": "stdout",
     "output_type": "stream",
     "text": [
      "+------+-----+\n",
      "|userID|count|\n",
      "+------+-----+\n",
      "|123100|23715|\n",
      "|117490| 9279|\n",
      "|134596| 8381|\n",
      "|212343| 7884|\n",
      "|242683| 7515|\n",
      "+------+-----+\n",
      "only showing top 5 rows\n",
      "\n"
     ]
    }
   ],
   "source": [
    "df.groupBy(\"userID\").count().orderBy('count', ascending=False).show(5)"
   ]
  },
  {
   "cell_type": "code",
   "execution_count": 18,
   "metadata": {},
   "outputs": [
    {
     "name": "stdout",
     "output_type": "stream",
     "text": [
      "+------------------+\n",
      "|       avg(rating)|\n",
      "+------------------+\n",
      "|3.1306346194391734|\n",
      "+------------------+\n",
      "\n"
     ]
    }
   ],
   "source": [
    "df.filter(\"userID=='123100'\").agg({\"rating\":\"mean\"}).show()"
   ]
  },
  {
   "cell_type": "markdown",
   "metadata": {},
   "source": [
    "# Quali sono i film che hanno ricevuto più recensioni?"
   ]
  },
  {
   "cell_type": "code",
   "execution_count": 25,
   "metadata": {},
   "outputs": [],
   "source": [
    "dfMovies = df.groupBy(\"movieID\")"
   ]
  },
  {
   "cell_type": "code",
   "execution_count": 20,
   "metadata": {},
   "outputs": [
    {
     "name": "stdout",
     "output_type": "stream",
     "text": [
      "+-------+-----+\n",
      "|movieID|count|\n",
      "+-------+-----+\n",
      "|    318|97999|\n",
      "|    356|97040|\n",
      "|    296|92406|\n",
      "|    593|87899|\n",
      "|   2571|84545|\n",
      "|    260|81815|\n",
      "|    480|76451|\n",
      "|    527|71516|\n",
      "|    110|68803|\n",
      "|      1|68469|\n",
      "+-------+-----+\n",
      "only showing top 10 rows\n",
      "\n"
     ]
    }
   ],
   "source": [
    "dfMovies.count().orderBy(\"count\", ascending=False).show(10)"
   ]
  },
  {
   "cell_type": "markdown",
   "metadata": {},
   "source": [
    "# Quali sono i 10 film con le recensioni più positive?\n",
    "# OPZIONE1"
   ]
  },
  {
   "cell_type": "code",
   "execution_count": 23,
   "metadata": {},
   "outputs": [
    {
     "name": "stdout",
     "output_type": "stream",
     "text": [
      "+-------+------------------+-------------+\n",
      "|movieID|        avg_rating|count_movieID|\n",
      "+-------+------------------+-------------+\n",
      "|    296| 4.173971387139363|        92406|\n",
      "|   1090|3.9017529880478086|        18825|\n",
      "|   2294|3.2357021735779252|        12974|\n",
      "|   3210| 3.636775639067115|         9819|\n",
      "|  48738| 3.849010703859877|         6166|\n",
      "+-------+------------------+-------------+\n",
      "only showing top 5 rows\n",
      "\n"
     ]
    }
   ],
   "source": [
    "dfMoviesAvg = dfMovies.agg({\"rating\":\"mean\", \"movieID\":\"count\"}) \\\n",
    "                    .withColumnRenamed(\"avg(rating)\", \"avg_rating\") \\\n",
    "                    .withColumnRenamed(\"count(movieId)\", \"count_movieID\") \n",
    "dfMoviesAvg.show(5)"
   ]
  },
  {
   "cell_type": "markdown",
   "metadata": {},
   "source": [
    "# OPZIONE 2"
   ]
  },
  {
   "cell_type": "code",
   "execution_count": 27,
   "metadata": {},
   "outputs": [
    {
     "name": "stdout",
     "output_type": "stream",
     "text": [
      "+-------+------------------+------------+\n",
      "|movieID|        avg_rating|count_rating|\n",
      "+-------+------------------+------------+\n",
      "|    296| 4.173971387139363|       92406|\n",
      "|   1090|3.9017529880478086|       18825|\n",
      "|   2294|3.2357021735779252|       12974|\n",
      "|   3210| 3.636775639067115|        9819|\n",
      "|  48738| 3.849010703859877|        6166|\n",
      "+-------+------------------+------------+\n",
      "only showing top 5 rows\n",
      "\n"
     ]
    }
   ],
   "source": [
    "from pyspark.sql.functions import avg, count\n",
    "\n",
    "dfMoviesAvg = dfMovies.agg(avg(\"rating\").alias(\"avg_rating\"), count(\"movieID\").alias(\"count_rating\"))\n",
    "dfMoviesAvg.show(5)"
   ]
  },
  {
   "cell_type": "code",
   "execution_count": 28,
   "metadata": {},
   "outputs": [
    {
     "data": {
      "text/plain": [
       "10500"
      ]
     },
     "execution_count": 28,
     "metadata": {},
     "output_type": "execute_result"
    }
   ],
   "source": [
    "dfMoviesMostRated = dfMoviesAvg.filter('count_rating >= 100')\n",
    "dfMoviesMostRated.count()"
   ]
  },
  {
   "cell_type": "code",
   "execution_count": 29,
   "metadata": {},
   "outputs": [
    {
     "name": "stdout",
     "output_type": "stream",
     "text": [
      "+-------+------------------+------------+\n",
      "|movieID|        avg_rating|count_rating|\n",
      "+-------+------------------+------------+\n",
      "| 171011|4.4865181711606095|         853|\n",
      "| 159817| 4.458092485549133|        1384|\n",
      "|    318| 4.424188001918387|       97999|\n",
      "| 170705| 4.399898373983739|         984|\n",
      "| 174053| 4.350558659217877|        1074|\n",
      "| 171495| 4.343949044585988|         157|\n",
      "| 172591| 4.339667458432304|         421|\n",
      "|    858| 4.332892749244713|       60904|\n",
      "|     50| 4.291958829205532|       62180|\n",
      "| 176601| 4.263888888888889|         180|\n",
      "|   1221|4.2630353697749195|       38875|\n",
      "| 172577| 4.261904761904762|         126|\n",
      "|    527| 4.257501817775044|       71516|\n",
      "|   2019|4.2541157909178215|       14578|\n",
      "| 163809| 4.244031830238727|         377|\n",
      "| 185135|  4.23943661971831|         213|\n",
      "|   1203| 4.237075455914338|       17931|\n",
      "| 179135| 4.236389684813753|         349|\n",
      "|    904| 4.230798598634567|       22264|\n",
      "|   2959| 4.230663235786717|       65678|\n",
      "+-------+------------------+------------+\n",
      "only showing top 20 rows\n",
      "\n"
     ]
    }
   ],
   "source": [
    "dfMoviesTopRated = dfMoviesMostRated.orderBy(\"avg_rating\", ascending=False)\n",
    "dfMoviesTopRated.show()"
   ]
  },
  {
   "cell_type": "markdown",
   "metadata": {},
   "source": [
    "# Quali sono i 10 film con le recensioni più negative?"
   ]
  },
  {
   "cell_type": "code",
   "execution_count": 32,
   "metadata": {},
   "outputs": [
    {
     "name": "stdout",
     "output_type": "stream",
     "text": [
      "+-------+------------------+------------+\n",
      "|movieID|        avg_rating|count_rating|\n",
      "+-------+------------------+------------+\n",
      "|   8859|0.8739495798319328|         238|\n",
      "|   6483|1.0138592750533049|         469|\n",
      "|   4775| 1.141025641025641|         741|\n",
      "|   1826|1.2038288288288288|         444|\n",
      "|   6587|1.2055555555555555|         810|\n",
      "|  31698|1.2441176470588236|         680|\n",
      "|   5739|1.2612359550561798|         178|\n",
      "|  61348|1.2672849915682969|         593|\n",
      "|   5738|1.3549382716049383|         162|\n",
      "|   3574|1.3580645161290323|         155|\n",
      "|   6872|1.3608445297504799|         521|\n",
      "|   5740| 1.371212121212121|         132|\n",
      "|   6371| 1.378238341968912|         386|\n",
      "|   5737|1.3897849462365592|         186|\n",
      "|  54290|1.4051724137931034|         232|\n",
      "|   1495|1.4207792207792207|         770|\n",
      "|   1990|1.4588235294117646|         170|\n",
      "|   5647|1.4662447257383966|         237|\n",
      "|   5736|1.4705882352941178|         204|\n",
      "|  50798|1.4722872755659642|        1281|\n",
      "+-------+------------------+------------+\n",
      "only showing top 20 rows\n",
      "\n"
     ]
    }
   ],
   "source": [
    "dfMoviesTopRated = dfMoviesMostRated.orderBy(\"avg_rating\")\n",
    "dfMoviesTopRated.show()"
   ]
  },
  {
   "cell_type": "code",
   "execution_count": null,
   "metadata": {},
   "outputs": [],
   "source": []
  }
 ],
 "metadata": {
  "kernelspec": {
   "display_name": "Python 3",
   "language": "python",
   "name": "python3"
  },
  "language_info": {
   "codemirror_mode": {
    "name": "ipython",
    "version": 3
   },
   "file_extension": ".py",
   "mimetype": "text/x-python",
   "name": "python",
   "nbconvert_exporter": "python",
   "pygments_lexer": "ipython3",
   "version": "3.7.5"
  }
 },
 "nbformat": 4,
 "nbformat_minor": 4
}
