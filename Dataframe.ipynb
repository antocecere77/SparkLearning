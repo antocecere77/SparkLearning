{
 "cells": [
  {
   "cell_type": "markdown",
   "metadata": {},
   "source": [
    "## Inizializzazione di Spark"
   ]
  },
  {
   "cell_type": "code",
   "execution_count": 1,
   "metadata": {},
   "outputs": [],
   "source": [
    "from pyspark.sql import SparkSession\n",
    "\n",
    "spark = SparkSession.builder.appName(\"basic\").getOrCreate()"
   ]
  },
  {
   "cell_type": "code",
   "execution_count": 2,
   "metadata": {},
   "outputs": [],
   "source": [
    "data = [(\"Giuseppe\", \"M\", 23, 174, 70.5),\n",
    "        (\"Antonio\", \"M\", 25, 179, 68.),\n",
    "        (\"Lorenzo\", \"M\", 33, 172, 88.5),\n",
    "        (\"Luisa\", \"F\", 48, 155, 50.2),\n",
    "        (\"Margheria\", \"F\", 35, 165, 54.3)]\n",
    "\n",
    "df = spark.createDataFrame(data, [\"name\", \"gender\", \"age\", \"height\", \"weight\"])"
   ]
  },
  {
   "cell_type": "code",
   "execution_count": 3,
   "metadata": {},
   "outputs": [
    {
     "name": "stdout",
     "output_type": "stream",
     "text": [
      "+---------+------+---+------+------+\n",
      "|     name|gender|age|height|weight|\n",
      "+---------+------+---+------+------+\n",
      "| Giuseppe|     M| 23|   174|  70.5|\n",
      "|  Antonio|     M| 25|   179|  68.0|\n",
      "|  Lorenzo|     M| 33|   172|  88.5|\n",
      "|    Luisa|     F| 48|   155|  50.2|\n",
      "|Margheria|     F| 35|   165|  54.3|\n",
      "+---------+------+---+------+------+\n",
      "\n"
     ]
    }
   ],
   "source": [
    "df.show()"
   ]
  },
  {
   "cell_type": "code",
   "execution_count": 4,
   "metadata": {},
   "outputs": [
    {
     "data": {
      "text/plain": [
       "5"
      ]
     },
     "execution_count": 4,
     "metadata": {},
     "output_type": "execute_result"
    }
   ],
   "source": [
    "df.count()"
   ]
  },
  {
   "cell_type": "code",
   "execution_count": 5,
   "metadata": {},
   "outputs": [
    {
     "data": {
      "text/plain": [
       "['name', 'gender', 'age', 'height', 'weight']"
      ]
     },
     "execution_count": 5,
     "metadata": {},
     "output_type": "execute_result"
    }
   ],
   "source": [
    "df.columns"
   ]
  },
  {
   "cell_type": "code",
   "execution_count": 6,
   "metadata": {},
   "outputs": [
    {
     "name": "stdout",
     "output_type": "stream",
     "text": [
      "root\n",
      " |-- name: string (nullable = true)\n",
      " |-- gender: string (nullable = true)\n",
      " |-- age: long (nullable = true)\n",
      " |-- height: long (nullable = true)\n",
      " |-- weight: double (nullable = true)\n",
      "\n"
     ]
    }
   ],
   "source": [
    "df.printSchema()"
   ]
  },
  {
   "cell_type": "code",
   "execution_count": 7,
   "metadata": {},
   "outputs": [
    {
     "data": {
      "text/plain": [
       "pyspark.sql.dataframe.DataFrame"
      ]
     },
     "execution_count": 7,
     "metadata": {},
     "output_type": "execute_result"
    }
   ],
   "source": [
    "df_desc = df.describe()\n",
    "type(df_desc)"
   ]
  },
  {
   "cell_type": "code",
   "execution_count": 8,
   "metadata": {},
   "outputs": [
    {
     "name": "stdout",
     "output_type": "stream",
     "text": [
      "+-------+---------+------+-----------------+-----------------+------------------+\n",
      "|summary|     name|gender|              age|           height|            weight|\n",
      "+-------+---------+------+-----------------+-----------------+------------------+\n",
      "|  count|        5|     5|                5|                5|                 5|\n",
      "|   mean|     null|  null|             32.8|            169.0|              66.3|\n",
      "| stddev|     null|  null|9.909591313469996|9.300537618869138|15.137536127124523|\n",
      "|    min|  Antonio|     F|               23|              155|              50.2|\n",
      "|    max|Margheria|     M|               48|              179|              88.5|\n",
      "+-------+---------+------+-----------------+-----------------+------------------+\n",
      "\n"
     ]
    }
   ],
   "source": [
    "df_desc.show()"
   ]
  },
  {
   "cell_type": "code",
   "execution_count": 9,
   "metadata": {},
   "outputs": [],
   "source": [
    "from pyspark.sql.types import *\n",
    "\n",
    "data_schema = [StructField('name', StringType(), True),\n",
    "               StructField('gender', StringType(), True),\n",
    "               StructField('age', IntegerType(), True),\n",
    "               StructField('height', IntegerType(), True),\n",
    "               StructField('height', FloatType(), True)\n",
    "              ]\n",
    "\n",
    "schema = StructType(fields=data_schema)"
   ]
  },
  {
   "cell_type": "code",
   "execution_count": 10,
   "metadata": {},
   "outputs": [
    {
     "name": "stdout",
     "output_type": "stream",
     "text": [
      "+---------+------+---+------+------+\n",
      "|     name|gender|age|height|height|\n",
      "+---------+------+---+------+------+\n",
      "| Giuseppe|     M| 23|   174|  70.5|\n",
      "|  Antonio|     M| 25|   179|  68.0|\n",
      "|  Lorenzo|     M| 33|   172|  88.5|\n",
      "|    Luisa|     F| 48|   155|  50.2|\n",
      "|Margheria|     F| 35|   165|  54.3|\n",
      "+---------+------+---+------+------+\n",
      "\n"
     ]
    }
   ],
   "source": [
    "sf = spark.createDataFrame(data, schema=schema)\n",
    "sf.show()"
   ]
  },
  {
   "cell_type": "code",
   "execution_count": 11,
   "metadata": {},
   "outputs": [
    {
     "name": "stdout",
     "output_type": "stream",
     "text": [
      "root\n",
      " |-- name: string (nullable = true)\n",
      " |-- gender: string (nullable = true)\n",
      " |-- age: long (nullable = true)\n",
      " |-- height: long (nullable = true)\n",
      " |-- weight: double (nullable = true)\n",
      "\n"
     ]
    }
   ],
   "source": [
    "df.printSchema()"
   ]
  },
  {
   "cell_type": "markdown",
   "metadata": {},
   "source": [
    "# Righe e colonne"
   ]
  },
  {
   "cell_type": "code",
   "execution_count": 13,
   "metadata": {},
   "outputs": [
    {
     "data": {
      "text/plain": [
       "[Row(name='Giuseppe', gender='M', age=23, height=174, weight=70.5),\n",
       " Row(name='Antonio', gender='M', age=25, height=179, weight=68.0),\n",
       " Row(name='Lorenzo', gender='M', age=33, height=172, weight=88.5),\n",
       " Row(name='Luisa', gender='F', age=48, height=155, weight=50.2),\n",
       " Row(name='Margheria', gender='F', age=35, height=165, weight=54.3)]"
      ]
     },
     "execution_count": 13,
     "metadata": {},
     "output_type": "execute_result"
    }
   ],
   "source": [
    "df.head(5)"
   ]
  },
  {
   "cell_type": "code",
   "execution_count": 14,
   "metadata": {},
   "outputs": [
    {
     "data": {
      "text/plain": [
       "Column<b'name'>"
      ]
     },
     "execution_count": 14,
     "metadata": {},
     "output_type": "execute_result"
    }
   ],
   "source": [
    "df[0]"
   ]
  },
  {
   "cell_type": "code",
   "execution_count": 15,
   "metadata": {},
   "outputs": [
    {
     "data": {
      "text/plain": [
       "Column<b'name'>"
      ]
     },
     "execution_count": 15,
     "metadata": {},
     "output_type": "execute_result"
    }
   ],
   "source": [
    "df['name']"
   ]
  },
  {
   "cell_type": "code",
   "execution_count": 16,
   "metadata": {},
   "outputs": [
    {
     "name": "stdout",
     "output_type": "stream",
     "text": [
      "+---------+\n",
      "|     name|\n",
      "+---------+\n",
      "| Giuseppe|\n",
      "|  Antonio|\n",
      "|  Lorenzo|\n",
      "|    Luisa|\n",
      "|Margheria|\n",
      "+---------+\n",
      "\n"
     ]
    }
   ],
   "source": [
    "dfName = df.select(\"name\")\n",
    "dfName.show()"
   ]
  },
  {
   "cell_type": "code",
   "execution_count": 17,
   "metadata": {},
   "outputs": [
    {
     "name": "stdout",
     "output_type": "stream",
     "text": [
      "+---------+---+\n",
      "|     name|age|\n",
      "+---------+---+\n",
      "| Giuseppe| 23|\n",
      "|  Antonio| 25|\n",
      "|  Lorenzo| 33|\n",
      "|    Luisa| 48|\n",
      "|Margheria| 35|\n",
      "+---------+---+\n",
      "\n"
     ]
    }
   ],
   "source": [
    "df.select([\"name\", \"age\"]).show()"
   ]
  },
  {
   "cell_type": "code",
   "execution_count": 19,
   "metadata": {},
   "outputs": [
    {
     "name": "stdout",
     "output_type": "stream",
     "text": [
      "+---------+------+---+------+------+\n",
      "|     name|gender|age|height|weight|\n",
      "+---------+------+---+------+------+\n",
      "| Giuseppe|     M| 23|  1.74|  70.5|\n",
      "|  Antonio|     M| 25|  1.79|  68.0|\n",
      "|  Lorenzo|     M| 33|  1.72|  88.5|\n",
      "|    Luisa|     F| 48|  1.55|  50.2|\n",
      "|Margheria|     F| 35|  1.65|  54.3|\n",
      "+---------+------+---+------+------+\n",
      "\n"
     ]
    }
   ],
   "source": [
    "df = df.withColumn(\"height\", df[\"height\"]/100)\n",
    "df.show()"
   ]
  },
  {
   "cell_type": "code",
   "execution_count": 20,
   "metadata": {},
   "outputs": [
    {
     "name": "stdout",
     "output_type": "stream",
     "text": [
      "root\n",
      " |-- name: string (nullable = true)\n",
      " |-- gender: string (nullable = true)\n",
      " |-- age: long (nullable = true)\n",
      " |-- height: double (nullable = true)\n",
      " |-- weight: double (nullable = true)\n",
      "\n"
     ]
    }
   ],
   "source": [
    "df.printSchema()"
   ]
  },
  {
   "cell_type": "code",
   "execution_count": 21,
   "metadata": {},
   "outputs": [
    {
     "name": "stdout",
     "output_type": "stream",
     "text": [
      "+---------+------+---+------+------+------------------+\n",
      "|     name|gender|age|height|weight|               bmi|\n",
      "+---------+------+---+------+------+------------------+\n",
      "| Giuseppe|     M| 23|  1.74|  70.5|23.285770907649624|\n",
      "|  Antonio|     M| 25|  1.79|  68.0| 21.22280827689523|\n",
      "|  Lorenzo|     M| 33|  1.72|  88.5| 29.91481882098432|\n",
      "|    Luisa|     F| 48|  1.55|  50.2|20.894901144640997|\n",
      "|Margheria|     F| 35|  1.65|  54.3| 19.94490358126722|\n",
      "+---------+------+---+------+------+------------------+\n",
      "\n"
     ]
    }
   ],
   "source": [
    "bmi = df[\"weight\"]/(df[\"height\"]**2)\n",
    "df = df.withColumn(\"bmi\", bmi)\n",
    "df.show()"
   ]
  },
  {
   "cell_type": "code",
   "execution_count": 25,
   "metadata": {},
   "outputs": [
    {
     "name": "stdout",
     "output_type": "stream",
     "text": [
      "+---------+------+---+------+------+-----+\n",
      "|     name|gender|age|height|weight|  bmi|\n",
      "+---------+------+---+------+------+-----+\n",
      "| Giuseppe|     M| 23|  1.74|  70.5|23.29|\n",
      "|  Antonio|     M| 25|  1.79|  68.0|21.22|\n",
      "|  Lorenzo|     M| 33|  1.72|  88.5|29.91|\n",
      "|    Luisa|     F| 48|  1.55|  50.2|20.89|\n",
      "|Margheria|     F| 35|  1.65|  54.3|19.94|\n",
      "+---------+------+---+------+------+-----+\n",
      "\n"
     ]
    }
   ],
   "source": [
    "from pyspark.sql.functions import round\n",
    "\n",
    "df = df.withColumn(\"bmi\", round(df[\"bmi\"], 2))\n",
    "df.show()"
   ]
  },
  {
   "cell_type": "code",
   "execution_count": 26,
   "metadata": {},
   "outputs": [
    {
     "name": "stdout",
     "output_type": "stream",
     "text": [
      "+---------+------+---+------+------+-----+------+\n",
      "|     name|gender|age|height|weight|  bmi|is_fat|\n",
      "+---------+------+---+------+------+-----+------+\n",
      "| Giuseppe|     M| 23|  1.74|  70.5|23.29| false|\n",
      "|  Antonio|     M| 25|  1.79|  68.0|21.22| false|\n",
      "|  Lorenzo|     M| 33|  1.72|  88.5|29.91|  true|\n",
      "|    Luisa|     F| 48|  1.55|  50.2|20.89| false|\n",
      "|Margheria|     F| 35|  1.65|  54.3|19.94| false|\n",
      "+---------+------+---+------+------+-----+------+\n",
      "\n"
     ]
    }
   ],
   "source": [
    "from pyspark.sql.functions import when\n",
    "\n",
    "df = df.withColumn(\"is_fat\", when(df[\"bmi\"]>25, True).otherwise(False))\n",
    "df.show()"
   ]
  },
  {
   "cell_type": "code",
   "execution_count": null,
   "metadata": {},
   "outputs": [],
   "source": []
  }
 ],
 "metadata": {
  "kernelspec": {
   "display_name": "Python 3",
   "language": "python",
   "name": "python3"
  },
  "language_info": {
   "codemirror_mode": {
    "name": "ipython",
    "version": 3
   },
   "file_extension": ".py",
   "mimetype": "text/x-python",
   "name": "python",
   "nbconvert_exporter": "python",
   "pygments_lexer": "ipython3",
   "version": "3.7.5"
  }
 },
 "nbformat": 4,
 "nbformat_minor": 4
}
