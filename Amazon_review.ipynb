{
 "cells": [
  {
   "cell_type": "markdown",
   "metadata": {},
   "source": [
    "# Analisi di 22.5 valutazioni su Amazon"
   ]
  },
  {
   "cell_type": "code",
   "execution_count": 1,
   "metadata": {},
   "outputs": [],
   "source": [
    "from pyspark import SparkConf, SparkContext\n",
    "conf = SparkConf().setAppName(\"AmazonReviews\").setMaster(\"local\")\n",
    "sc = SparkContext.getOrCreate()"
   ]
  },
  {
   "cell_type": "code",
   "execution_count": 2,
   "metadata": {},
   "outputs": [],
   "source": [
    "# Procuriamoci il Dataset\n",
    "# Per prima cosa procuriamoci il dataset scaricandolo il locale, il dataset si trova in formato CSV a questo link, esegui il comando qui sotto per scaricarlo direttamente dal Notebook di DataBricks, che verrà salvato nella directory file:/databricks/driver.\n",
    "# !wget http://snap.stanford.edu/data/amazon/productGraph/categoryFiles/ratings_Books.csv\n",
    "\n",
    "reviewsRDD = sc.textFile(\"./data/ratings_Books.csv\")"
   ]
  },
  {
   "cell_type": "markdown",
   "metadata": {},
   "source": [
    "# Recupero gli elementi"
   ]
  },
  {
   "cell_type": "code",
   "execution_count": 3,
   "metadata": {},
   "outputs": [
    {
     "data": {
      "text/plain": [
       "['AH2L9G3DQHHAJ,0000000116,4.0,1019865600',\n",
       " 'A2IIIDRK3PRRZY,0000000116,1.0,1395619200',\n",
       " 'A1TADCM7YWPQ8M,0000000868,4.0,1031702400',\n",
       " 'AWGH7V0BDOJKB,0000013714,4.0,1383177600',\n",
       " 'A3UTQPQPM4TQO0,0000013714,5.0,1374883200']"
      ]
     },
     "execution_count": 3,
     "metadata": {},
     "output_type": "execute_result"
    }
   ],
   "source": [
    "# Ogni elemento di ogni riga corrisponde a (in ordine):\n",
    "\n",
    "#    Id dell'utente che ha lasciato la valutazione.\n",
    "#    Id del libro recensito.\n",
    "#    Valutazione da 1.0 a 5.0.\n",
    "#    Timestamp di quando è stata lasciata la recensione.\n",
    "\n",
    "# Per ovvi motivi di privacy non ci è possibile risalire ad un utente partendo dal suo ID, mentre per il libro \n",
    "# è possibile farlo aggiungendo l'ID a questo url https://www.amazon.com/dp/, ad esempio per il primo elemento: \n",
    "# https://www.amazon.com/dp/0000000116\n",
    "\n",
    "# NOTA BENE Sì lo so, se hai cliccato sul link ti sei trovato una penna e non un libro come abbiamo detto, \n",
    "# il motivo è che tale penna è stata inserita impropriamente nella categoria libri di Amazon, quindi tutto \n",
    "# in regola per noi :).\n",
    "\n",
    "\n",
    "reviewsRDD.take(5)"
   ]
  },
  {
   "cell_type": "code",
   "execution_count": 4,
   "metadata": {},
   "outputs": [
    {
     "data": {
      "text/plain": [
       "[['AH2L9G3DQHHAJ', '0000000116', '4.0', '1019865600'],\n",
       " ['A2IIIDRK3PRRZY', '0000000116', '1.0', '1395619200'],\n",
       " ['A1TADCM7YWPQ8M', '0000000868', '4.0', '1031702400'],\n",
       " ['AWGH7V0BDOJKB', '0000013714', '4.0', '1383177600'],\n",
       " ['A3UTQPQPM4TQO0', '0000013714', '5.0', '1374883200']]"
      ]
     },
     "execution_count": 4,
     "metadata": {},
     "output_type": "execute_result"
    }
   ],
   "source": [
    "reviewsRDD = reviewsRDD.map(lambda x: x.split(\",\"))\n",
    "reviewsRDD.take(5)"
   ]
  },
  {
   "cell_type": "code",
   "execution_count": 5,
   "metadata": {},
   "outputs": [
    {
     "data": {
      "text/plain": [
       "22507155"
      ]
     },
     "execution_count": 5,
     "metadata": {},
     "output_type": "execute_result"
    }
   ],
   "source": [
    "# Contiamo il numero totale di valutazioni\n",
    "# Per contare il numero di recensioni usiamo semplicemente il metodo .count()\n",
    "\n",
    "reviewsRDD.count()"
   ]
  },
  {
   "cell_type": "markdown",
   "metadata": {},
   "source": [
    "# Quanti libri ci sono nel dataset?"
   ]
  },
  {
   "cell_type": "markdown",
   "metadata": {},
   "source": []
  },
  {
   "cell_type": "code",
   "execution_count": 6,
   "metadata": {},
   "outputs": [
    {
     "data": {
      "text/plain": [
       "['0000000116', '0000000116', '0000000868', '0000013714', '0000013714']"
      ]
     },
     "execution_count": 6,
     "metadata": {},
     "output_type": "execute_result"
    }
   ],
   "source": [
    "booksRDD = reviewsRDD.map(lambda x: x[1])\n",
    "booksRDD.take(5)"
   ]
  },
  {
   "cell_type": "code",
   "execution_count": 7,
   "metadata": {},
   "outputs": [
    {
     "data": {
      "text/plain": [
       "['0001006657', '0001922408', '0002000601', '0002006650', '0002007770']"
      ]
     },
     "execution_count": 7,
     "metadata": {},
     "output_type": "execute_result"
    }
   ],
   "source": [
    "uniqueRDD = booksRDD.distinct()\n",
    "uniqueRDD.take(5)"
   ]
  },
  {
   "cell_type": "code",
   "execution_count": 8,
   "metadata": {},
   "outputs": [
    {
     "data": {
      "text/plain": [
       "2330066"
      ]
     },
     "execution_count": 8,
     "metadata": {},
     "output_type": "execute_result"
    }
   ],
   "source": [
    "uniqueRDD.count()"
   ]
  },
  {
   "cell_type": "code",
   "execution_count": 14,
   "metadata": {},
   "outputs": [
    {
     "data": {
      "text/plain": [
       "2330066"
      ]
     },
     "execution_count": 14,
     "metadata": {},
     "output_type": "execute_result"
    }
   ],
   "source": [
    "#Oppure in un'unica riga\n",
    "reviewsRDD.map(lambda x: x[1]).distinct().count()"
   ]
  },
  {
   "cell_type": "markdown",
   "metadata": {},
   "source": [
    "   # Quante valutazioni ha ricevuto ogni libro?"
   ]
  },
  {
   "cell_type": "code",
   "execution_count": 9,
   "metadata": {},
   "outputs": [],
   "source": [
    "booksCount = booksRDD.countByValue()"
   ]
  },
  {
   "cell_type": "code",
   "execution_count": 10,
   "metadata": {},
   "outputs": [
    {
     "data": {
      "text/plain": [
       "collections.defaultdict"
      ]
     },
     "execution_count": 10,
     "metadata": {},
     "output_type": "execute_result"
    }
   ],
   "source": [
    "type(booksCount)"
   ]
  },
  {
   "cell_type": "code",
   "execution_count": 12,
   "metadata": {},
   "outputs": [
    {
     "name": "stdout",
     "output_type": "stream",
     "text": [
      "ID LIBRO\t CONTEGGIO\n",
      "0000000116\t2\n",
      "0000000868\t1\n",
      "0000013714\t14\n",
      "0000015393\t1\n",
      "0000029831\t5\n",
      "0000038504\t2\n",
      "0000041696\t4\n",
      "0000095699\t1\n",
      "0000174076\t1\n",
      "0000202010\t1\n",
      "0000230022\t10\n"
     ]
    }
   ],
   "source": [
    "i = 0\n",
    "print(\"ID LIBRO\\t CONTEGGIO\")\n",
    "for book_id, count in booksCount.items():\n",
    "    print(\"%s\\t%s\" %(book_id, count))\n",
    "    if(i>=10):\n",
    "        break\n",
    "    i+=1\n"
   ]
  },
  {
   "cell_type": "markdown",
   "metadata": {},
   "source": [
    "# Quali sono i 10 libri più valutati?"
   ]
  },
  {
   "cell_type": "code",
   "execution_count": 17,
   "metadata": {},
   "outputs": [
    {
     "data": {
      "text/plain": [
       "[('0000000116', 1),\n",
       " ('0000000116', 1),\n",
       " ('0000000868', 1),\n",
       " ('0000013714', 1),\n",
       " ('0000013714', 1)]"
      ]
     },
     "execution_count": 17,
     "metadata": {},
     "output_type": "execute_result"
    }
   ],
   "source": [
    "booksCount = booksRDD.map(lambda x: (x,1))\n",
    "booksCount.take(5)"
   ]
  },
  {
   "cell_type": "code",
   "execution_count": 18,
   "metadata": {},
   "outputs": [
    {
     "data": {
      "text/plain": [
       "[('0001006657', 2),\n",
       " ('0001922408', 2),\n",
       " ('0002000601', 6),\n",
       " ('0002006650', 2),\n",
       " ('0002007770', 6001)]"
      ]
     },
     "execution_count": 18,
     "metadata": {},
     "output_type": "execute_result"
    }
   ],
   "source": [
    "booksCount = booksCount.reduceByKey(lambda x,y: x+y)\n",
    "booksCount.take(5)"
   ]
  },
  {
   "cell_type": "code",
   "execution_count": 19,
   "metadata": {},
   "outputs": [
    {
     "data": {
      "text/plain": [
       "[('0439023483', 21398),\n",
       " ('030758836X', 19867),\n",
       " ('0439023513', 14114),\n",
       " ('0385537859', 12973),\n",
       " ('0007444117', 12629),\n",
       " ('0375831002', 12571),\n",
       " ('038536315X', 12564),\n",
       " ('0345803485', 12290),\n",
       " ('0316055433', 11746),\n",
       " ('0849922070', 10424)]"
      ]
     },
     "execution_count": 19,
     "metadata": {},
     "output_type": "execute_result"
    }
   ],
   "source": [
    "booksCountSorted = booksCount.sortBy(lambda x: x[1], ascending=False)\n",
    "booksCountSorted.take(10)"
   ]
  },
  {
   "cell_type": "code",
   "execution_count": 21,
   "metadata": {},
   "outputs": [
    {
     "data": {
      "text/plain": [
       "[('0439023483', 21398),\n",
       " ('030758836X', 19867),\n",
       " ('0439023513', 14114),\n",
       " ('0385537859', 12973),\n",
       " ('0007444117', 12629),\n",
       " ('0375831002', 12571),\n",
       " ('038536315X', 12564),\n",
       " ('0345803485', 12290),\n",
       " ('0316055433', 11746),\n",
       " ('0849922070', 10424)]"
      ]
     },
     "execution_count": 21,
     "metadata": {},
     "output_type": "execute_result"
    }
   ],
   "source": [
    "booksRDD.map(lambda x: (x,1)) \\\n",
    "    .reduceByKey(lambda x,y: x+y) \\\n",
    "    .sortBy(lambda x: x[1], ascending=False) \\\n",
    "    .take(10)"
   ]
  },
  {
   "cell_type": "markdown",
   "metadata": {},
   "source": [
    "# Qual è la valutazione media per ogni libro?"
   ]
  },
  {
   "cell_type": "code",
   "execution_count": 35,
   "metadata": {},
   "outputs": [
    {
     "data": {
      "text/plain": [
       "[('0000000116', 4.0),\n",
       " ('0000000116', 1.0),\n",
       " ('0000000868', 4.0),\n",
       " ('0000013714', 4.0),\n",
       " ('0000013714', 5.0)]"
      ]
     },
     "execution_count": 35,
     "metadata": {},
     "output_type": "execute_result"
    }
   ],
   "source": [
    "booksReviewRDD = reviewsRDD.map(lambda x: (x[1],float(x[2])))  \n",
    "booksReviewRDD.take(5)"
   ]
  },
  {
   "cell_type": "code",
   "execution_count": 36,
   "metadata": {},
   "outputs": [
    {
     "data": {
      "text/plain": [
       "[('0001006657', 10.0),\n",
       " ('0001922408', 10.0),\n",
       " ('0002000601', 23.0),\n",
       " ('0002006650', 8.0),\n",
       " ('0002007770', 26398.0)]"
      ]
     },
     "execution_count": 36,
     "metadata": {},
     "output_type": "execute_result"
    }
   ],
   "source": [
    "reviewSum = booksReviewRDD.reduceByKey(lambda x,y: x+y)\n",
    "reviewSum.take(5)"
   ]
  },
  {
   "cell_type": "code",
   "execution_count": 39,
   "metadata": {},
   "outputs": [
    {
     "data": {
      "text/plain": [
       "[('0000000116', (4.0, 1)),\n",
       " ('0000000116', (1.0, 1)),\n",
       " ('0000000868', (4.0, 1)),\n",
       " ('0000013714', (4.0, 1)),\n",
       " ('0000013714', (5.0, 1))]"
      ]
     },
     "execution_count": 39,
     "metadata": {},
     "output_type": "execute_result"
    }
   ],
   "source": [
    "booksReviewRDD = booksReviewRDD.mapValues(lambda x: (x,1))\n",
    "booksReviewRDD.take(5)"
   ]
  },
  {
   "cell_type": "code",
   "execution_count": 40,
   "metadata": {},
   "outputs": [
    {
     "data": {
      "text/plain": [
       "[('0001006657', (10.0, 2)),\n",
       " ('0001922408', (10.0, 2)),\n",
       " ('0002000601', (23.0, 6)),\n",
       " ('0002006650', (8.0, 2)),\n",
       " ('0002007770', (26398.0, 6001))]"
      ]
     },
     "execution_count": 40,
     "metadata": {},
     "output_type": "execute_result"
    }
   ],
   "source": [
    "reviewSum = booksReviewRDD.reduceByKey(lambda x,y: (x[0]+y[0], x[1]+y[1]))\n",
    "reviewSum.take(5)"
   ]
  },
  {
   "cell_type": "code",
   "execution_count": 41,
   "metadata": {},
   "outputs": [
    {
     "data": {
      "text/plain": [
       "[('0001006657', 5.0),\n",
       " ('0001922408', 5.0),\n",
       " ('0002000601', 3.8333333333333335),\n",
       " ('0002006650', 4.0),\n",
       " ('0002007770', 4.398933511081486),\n",
       " ('0002153327', 5.0),\n",
       " ('0002153904', 5.0),\n",
       " ('0002159260', 5.0),\n",
       " ('0002159627', 5.0),\n",
       " ('0002161621', 3.75)]"
      ]
     },
     "execution_count": 41,
     "metadata": {},
     "output_type": "execute_result"
    }
   ],
   "source": [
    "reviewMean = reviewSum.mapValues(lambda x: x[0]/x[1])\n",
    "reviewMean.take(10)"
   ]
  },
  {
   "cell_type": "markdown",
   "metadata": {},
   "source": [
    "# Quali sono i 10 libri con la valutazione più alta?"
   ]
  },
  {
   "cell_type": "code",
   "execution_count": 44,
   "metadata": {},
   "outputs": [
    {
     "data": {
      "text/plain": [
       "[('0001006657', (5.0, 2)),\n",
       " ('0001922408', (5.0, 2)),\n",
       " ('0002000601', (3.8333333333333335, 6)),\n",
       " ('0002006650', (4.0, 2)),\n",
       " ('0002007770', (4.398933511081486, 6001)),\n",
       " ('0002153327', (5.0, 1)),\n",
       " ('0002153904', (5.0, 3)),\n",
       " ('0002159260', (5.0, 1)),\n",
       " ('0002159627', (5.0, 5)),\n",
       " ('0002161621', (3.75, 4))]"
      ]
     },
     "execution_count": 44,
     "metadata": {},
     "output_type": "execute_result"
    }
   ],
   "source": [
    "#Considero solo i libri che hanno ricevuto almeno 100 recensioni\n",
    "\n",
    "reviewMean = reviewSum.mapValues(lambda x: (x[0]/x[1], x[1]))\n",
    "reviewMean.take(10)"
   ]
  },
  {
   "cell_type": "code",
   "execution_count": 45,
   "metadata": {},
   "outputs": [
    {
     "data": {
      "text/plain": [
       "29296"
      ]
     },
     "execution_count": 45,
     "metadata": {},
     "output_type": "execute_result"
    }
   ],
   "source": [
    "reviewMean = reviewMean.filter(lambda x: x[1][1]>=100)\n",
    "reviewMean.count()"
   ]
  },
  {
   "cell_type": "code",
   "execution_count": 47,
   "metadata": {},
   "outputs": [
    {
     "data": {
      "text/plain": [
       "[('0983408904', (5.0, 128)),\n",
       " ('0830766316', (5.0, 103)),\n",
       " ('0972394648', (4.992647058823529, 136)),\n",
       " ('1499390165', (4.991803278688525, 122)),\n",
       " ('0849381185', (4.990566037735849, 106)),\n",
       " ('0757317723', (4.9862068965517246, 145)),\n",
       " ('1939629071', (4.983193277310924, 119)),\n",
       " ('1499381921', (4.982857142857143, 350)),\n",
       " ('1616387165', (4.981308411214953, 107)),\n",
       " ('0814416993', (4.980769230769231, 104))]"
      ]
     },
     "execution_count": 47,
     "metadata": {},
     "output_type": "execute_result"
    }
   ],
   "source": [
    "reviewSorted = reviewMean.sortBy(lambda x: x[1][0], ascending=False)\n",
    "reviewSorted.take(10)"
   ]
  },
  {
   "cell_type": "code",
   "execution_count": 49,
   "metadata": {},
   "outputs": [
    {
     "data": {
      "text/plain": [
       "[('0983408904', (5.0, 128)),\n",
       " ('0830766316', (5.0, 103)),\n",
       " ('0972394648', (4.992647058823529, 136)),\n",
       " ('1499390165', (4.991803278688525, 122)),\n",
       " ('0849381185', (4.990566037735849, 106)),\n",
       " ('0757317723', (4.9862068965517246, 145)),\n",
       " ('1939629071', (4.983193277310924, 119)),\n",
       " ('1499381921', (4.982857142857143, 350)),\n",
       " ('1616387165', (4.981308411214953, 107)),\n",
       " ('0814416993', (4.980769230769231, 104))]"
      ]
     },
     "execution_count": 49,
     "metadata": {},
     "output_type": "execute_result"
    }
   ],
   "source": [
    "# Faccio tutto in un'unica istruzione\n",
    "\n",
    "reviewSum.filter(lambda x: x[1][1]>=100) \\\n",
    "    .mapValues(lambda x: (x[0]/x[1], x[1])) \\\n",
    "    .sortBy(lambda x: x[1][0], ascending=False) \\\n",
    "    .take(10)"
   ]
  },
  {
   "cell_type": "markdown",
   "metadata": {},
   "source": [
    "# Chi sono i 10 recensori più critici?"
   ]
  },
  {
   "cell_type": "code",
   "execution_count": 50,
   "metadata": {},
   "outputs": [
    {
     "data": {
      "text/plain": [
       "[('AH2L9G3DQHHAJ', (4.0, 1)),\n",
       " ('A2IIIDRK3PRRZY', (1.0, 1)),\n",
       " ('A1TADCM7YWPQ8M', (4.0, 1)),\n",
       " ('AWGH7V0BDOJKB', (4.0, 1)),\n",
       " ('A3UTQPQPM4TQO0', (5.0, 1))]"
      ]
     },
     "execution_count": 50,
     "metadata": {},
     "output_type": "execute_result"
    }
   ],
   "source": [
    "reviewerRDD = reviewsRDD.map(lambda x: (x[0], (float(x[2]), 1)))\n",
    "reviewerRDD.take(5)"
   ]
  },
  {
   "cell_type": "code",
   "execution_count": 51,
   "metadata": {},
   "outputs": [
    {
     "data": {
      "text/plain": [
       "[('A2742OG8PK8KU6', (10.0, 2)),\n",
       " ('A2GKR2Q7MD8DG4', (12.0, 3)),\n",
       " ('A1MC4E00RO5E9T', (17.0, 4)),\n",
       " ('A3IKTM9D8RVWKU', (5.0, 1)),\n",
       " ('A3UZSIDE90JWW1', (5.0, 1))]"
      ]
     },
     "execution_count": 51,
     "metadata": {},
     "output_type": "execute_result"
    }
   ],
   "source": [
    "reviewerRDD = reviewerRDD.reduceByKey(lambda x,y: (x[0]+y[0], x[1]+y[1]))\n",
    "reviewerRDD.take(5)"
   ]
  },
  {
   "cell_type": "code",
   "execution_count": 53,
   "metadata": {},
   "outputs": [
    {
     "data": {
      "text/plain": [
       "11244"
      ]
     },
     "execution_count": 53,
     "metadata": {},
     "output_type": "execute_result"
    }
   ],
   "source": [
    "reviewerRDD = reviewerRDD.filter(lambda x: x[1][1]>100)\n",
    "reviewerRDD.count()"
   ]
  },
  {
   "cell_type": "code",
   "execution_count": 54,
   "metadata": {},
   "outputs": [
    {
     "data": {
      "text/plain": [
       "[('A8IPQ1Q1O7YX5', 4.227048371174728),\n",
       " ('A2PN65B6BSTIYZ', 3.953271028037383),\n",
       " ('AX724J32HPG1J', 4.184738955823293),\n",
       " ('AFFGYGNO989PD', 4.2785714285714285),\n",
       " ('A1WCJEZS66D224', 3.5789473684210527)]"
      ]
     },
     "execution_count": 54,
     "metadata": {},
     "output_type": "execute_result"
    }
   ],
   "source": [
    "badReviewerRDD = reviewerRDD.mapValues(lambda x: x[0]/x[1])\n",
    "badReviewerRDD.take(5)"
   ]
  },
  {
   "cell_type": "code",
   "execution_count": 55,
   "metadata": {},
   "outputs": [
    {
     "data": {
      "text/plain": [
       "[('AH62BQTCMR3BR', 1.0534188034188035),\n",
       " ('A186OSXC7LHJDB', 1.2014925373134329),\n",
       " ('A2HESNQJZ9OB7H', 1.2543859649122806),\n",
       " ('A36IQRD3B5MK8G', 1.505050505050505),\n",
       " ('A3JF63XRSLLH0P', 1.5648148148148149),\n",
       " ('A344N0X5LIV43M', 1.646551724137931),\n",
       " ('A1SS16UHYW77D4', 1.855421686746988),\n",
       " ('A19UFCMSFGOZ2K', 2.076923076923077),\n",
       " ('A1NJHOGKZZRAX8', 2.1588785046728973),\n",
       " ('A1ZY08GYVIKZFM', 2.2446043165467624)]"
      ]
     },
     "execution_count": 55,
     "metadata": {},
     "output_type": "execute_result"
    }
   ],
   "source": [
    "badReviewerSortedRDD = badReviewerRDD.sortBy(lambda x: x[1])\n",
    "badReviewerSortedRDD.take(10)"
   ]
  },
  {
   "cell_type": "code",
   "execution_count": 56,
   "metadata": {},
   "outputs": [
    {
     "data": {
      "text/plain": [
       "[('AH62BQTCMR3BR', 1.0534188034188035),\n",
       " ('A186OSXC7LHJDB', 1.2014925373134329),\n",
       " ('A2HESNQJZ9OB7H', 1.2543859649122806),\n",
       " ('A36IQRD3B5MK8G', 1.505050505050505),\n",
       " ('A3JF63XRSLLH0P', 1.5648148148148149),\n",
       " ('A344N0X5LIV43M', 1.646551724137931),\n",
       " ('A1SS16UHYW77D4', 1.855421686746988),\n",
       " ('A19UFCMSFGOZ2K', 2.076923076923077),\n",
       " ('A1NJHOGKZZRAX8', 2.1588785046728973),\n",
       " ('A1ZY08GYVIKZFM', 2.2446043165467624)]"
      ]
     },
     "execution_count": 56,
     "metadata": {},
     "output_type": "execute_result"
    }
   ],
   "source": [
    "# Faccio tutto in un'unica istruzione\n",
    "\n",
    "reviewsRDD.map(lambda x: (x[0], (float(x[2]), 1))) \\\n",
    "    .reduceByKey(lambda x,y: (x[0]+y[0], x[1]+y[1])) \\\n",
    "    .filter(lambda x: x[1][1]>100) \\\n",
    "    .mapValues(lambda x: x[0]/x[1]) \\\n",
    "    .sortBy(lambda x: x[1]) \\\n",
    "    .take(10)"
   ]
  },
  {
   "cell_type": "code",
   "execution_count": null,
   "metadata": {},
   "outputs": [],
   "source": []
  }
 ],
 "metadata": {
  "kernelspec": {
   "display_name": "Python 3",
   "language": "python",
   "name": "python3"
  },
  "language_info": {
   "codemirror_mode": {
    "name": "ipython",
    "version": 3
   },
   "file_extension": ".py",
   "mimetype": "text/x-python",
   "name": "python",
   "nbconvert_exporter": "python",
   "pygments_lexer": "ipython3",
   "version": "3.7.5"
  }
 },
 "nbformat": 4,
 "nbformat_minor": 4
}
