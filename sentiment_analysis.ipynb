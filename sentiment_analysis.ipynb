{
 "cells": [
  {
   "cell_type": "markdown",
   "metadata": {},
   "source": [
    "# Sentiment Analysis sulle Recensioni di Yelp\n",
    "\n",
    "La Sentiment Analysis è il processo di identificazione dell'emozione espressa in un testo, positiva o negativa.\n",
    "\n",
    "In questo notebook useremo Spark e la sua MLlib per costruire un modello di Sentiment Analysis usando il dataset messo a disposizione da Yelp, una famossisima applicazione che permette di recensire locali e attività commerciali.\n"
   ]
  },
  {
   "cell_type": "markdown",
   "metadata": {},
   "source": [
    "# Inizializziamo Spark"
   ]
  },
  {
   "cell_type": "code",
   "execution_count": 1,
   "metadata": {},
   "outputs": [],
   "source": [
    "from pyspark import SparkContext, SparkConf\n",
    "from pyspark.sql import SQLContext\n",
    "\n",
    "conf = SparkConf().setAppName(\"sentiment_analysis\").setMaster(\"local\").set(\"spark.driver.memory\", \"5g\")\n",
    "sc = SparkContext.getOrCreate(conf=conf)\n",
    "sqlContext = SQLContext(sc)"
   ]
  },
  {
   "cell_type": "markdown",
   "metadata": {},
   "source": [
    "# Importiamo il dataset in un dataframe"
   ]
  },
  {
   "cell_type": "code",
   "execution_count": 2,
   "metadata": {},
   "outputs": [],
   "source": [
    "yelp_df = sqlContext.read.json('./data/yelp_academic_dataset_review.json')"
   ]
  },
  {
   "cell_type": "code",
   "execution_count": 3,
   "metadata": {},
   "outputs": [
    {
     "data": {
      "text/plain": [
       "6685900"
      ]
     },
     "execution_count": 3,
     "metadata": {},
     "output_type": "execute_result"
    }
   ],
   "source": [
    "yelp_df.count()"
   ]
  },
  {
   "cell_type": "code",
   "execution_count": 4,
   "metadata": {},
   "outputs": [
    {
     "data": {
      "text/plain": [
       "['business_id',\n",
       " 'cool',\n",
       " 'date',\n",
       " 'funny',\n",
       " 'review_id',\n",
       " 'stars',\n",
       " 'text',\n",
       " 'useful',\n",
       " 'user_id']"
      ]
     },
     "execution_count": 4,
     "metadata": {},
     "output_type": "execute_result"
    }
   ],
   "source": [
    "yelp_df.columns"
   ]
  },
  {
   "cell_type": "code",
   "execution_count": 5,
   "metadata": {},
   "outputs": [],
   "source": [
    "reviews_df = yelp_df.select([\"text\", \"stars\"])"
   ]
  },
  {
   "cell_type": "code",
   "execution_count": 6,
   "metadata": {},
   "outputs": [],
   "source": [
    "subreviews_df = reviews_df.sample(False, 0.01, seed=0)"
   ]
  },
  {
   "cell_type": "code",
   "execution_count": 7,
   "metadata": {},
   "outputs": [
    {
     "data": {
      "text/plain": [
       "67136"
      ]
     },
     "execution_count": 7,
     "metadata": {},
     "output_type": "execute_result"
    }
   ],
   "source": [
    "subreviews_df.count()"
   ]
  },
  {
   "cell_type": "markdown",
   "metadata": {},
   "source": [
    "# Preprocessing del testo"
   ]
  },
  {
   "cell_type": "code",
   "execution_count": 8,
   "metadata": {},
   "outputs": [
    {
     "data": {
      "text/plain": [
       "' che cacchio dici Antonio 1'"
      ]
     },
     "execution_count": 8,
     "metadata": {},
     "output_type": "execute_result"
    }
   ],
   "source": [
    "import string\n",
    "\n",
    "def remove_punct(text):\n",
    "    return text.translate(str.maketrans('','', string.punctuation))\n",
    "\n",
    "remove_punct(\".... che cacchio dici, Antonio !!!1!\")"
   ]
  },
  {
   "cell_type": "code",
   "execution_count": 9,
   "metadata": {},
   "outputs": [],
   "source": [
    "from pyspark.sql.functions import udf\n",
    "\n",
    "punct_remove = udf(lambda s: remove_punct(s))"
   ]
  },
  {
   "cell_type": "code",
   "execution_count": 10,
   "metadata": {},
   "outputs": [],
   "source": [
    "subreviews_df = subreviews_df.withColumn(\"text\", punct_remove(reviews_df[\"text\"]))"
   ]
  },
  {
   "cell_type": "code",
   "execution_count": 11,
   "metadata": {},
   "outputs": [
    {
     "name": "stdout",
     "output_type": "stream",
     "text": [
      "+-----------------------------------------------------------------------------------------------------------------------------------------------------------------------------------------------------------------------------------------------------------------------------------------------------------------------------------------------------------------------------------------------------------------------------------------------------------------------------------------------------------------------------------------------------------------------------------------------------------------------------------------------------------------------------------------------------------------------------------------------------------------------------------------------------------------------------------------------------------------------------------------------------------------------------------------------------------------------------------------------------------------------------------------------------------------------------------------------------------------------------------------------------------------------------------------------------------------------------------------------------------------------------------------------------------------------------------------------------------------------------------------------------------------------------------------------------------------------------------------------------------------------------------------------------------------------------------------------------------------------------------------------------------------------------------------------------------------------------------------------------------------------------------------------------------------------------------------------------------------------------------------------------------------------------------------------------------------------------------------------------------------------------------------------------------------------------------------------------------------------------------------------------------------------------------------------------------------------------------------------+-----+\n",
      "|text                                                                                                                                                                                                                                                                                                                                                                                                                                                                                                                                                                                                                                                                                                                                                                                                                                                                                                                                                                                                                                                                                                                                                                                                                                                                                                                                                                                                                                                                                                                                                                                                                                                                                                                                                                                                                                                                                                                                                                                                                                                                                                                                                                                                                                           |stars|\n",
      "+-----------------------------------------------------------------------------------------------------------------------------------------------------------------------------------------------------------------------------------------------------------------------------------------------------------------------------------------------------------------------------------------------------------------------------------------------------------------------------------------------------------------------------------------------------------------------------------------------------------------------------------------------------------------------------------------------------------------------------------------------------------------------------------------------------------------------------------------------------------------------------------------------------------------------------------------------------------------------------------------------------------------------------------------------------------------------------------------------------------------------------------------------------------------------------------------------------------------------------------------------------------------------------------------------------------------------------------------------------------------------------------------------------------------------------------------------------------------------------------------------------------------------------------------------------------------------------------------------------------------------------------------------------------------------------------------------------------------------------------------------------------------------------------------------------------------------------------------------------------------------------------------------------------------------------------------------------------------------------------------------------------------------------------------------------------------------------------------------------------------------------------------------------------------------------------------------------------------------------------------------+-----+\n",
      "|So many great this about Yoga Factory Excellent teachers very friendly and professional they have been very patient with my practice but know how to push me to meet my goals Amazing location very easily accessible very easy city parking Nice large space in the hot room never did I feel like my elbow room was compromised and the room can get PACKED The facility is clean neat and I love the choice of decor Highly recommended for a firsttimer or for someone who has a frequent practice very friendly and welcoming place                                                                                                                                                                                                                                                                                                                                                                                                                                                                                                                                                                                                                                                                                                                                                                                                                                                                                                                                                                                                                                                                                                                                                                                                                                                                                                                                                                                                                                                                                                                                                                                                                                                                                                       |5.0  |\n",
      "|If I could give this place 0 stars I would They are RUDE unprofessional and they have personal lockers that you HAVE to put your purse in to shop with them I was asked to go and put my purse in my car Excuse me Is this even legal Are you going to replace my purse and its contents if someone steals my personal items Im not sure who is running this place but this insane policy is CLEARLY negatively impacting you business BAD move BAD business move Go across the street to Sallys                                                                                                                                                                                                                                                                                                                                                                                                                                                                                                                                                                                                                                                                                                                                                                                                                                                                                                                                                                                                                                                                                                                                                                                                                                                                                                                                                                                                                                                                                                                                                                                                                                                                                                                                               |1.0  |\n",
      "|Lovely food I am also happy to eat at this location of paradise bakery they have fresh ingredients and make good alterations if asked for Great for vegetarians and well as non vegetarians\n",
      "Fact that this location is in tempe marketplace makes a high difference so we can enjoy outdoor seating in evenings                                                                                                                                                                                                                                                                                                                                                                                                                                                                                                                                                                                                                                                                                                                                                                                                                                                                                                                                                                                                                                                                                                                                                                                                                                                                                                                                                                                                                                                                                                                                                                                                                                                                                                                                                                                                                                                                                                                                |5.0  |\n",
      "|Weve always been customers of Petco We like the layout and the products they carry Of course you can find some of the products cheaper elsewhere but were fans of onestopshop One of our dogs comes here for his monthly wash and brushout they ladies are great with him They also have a woman who is certified for cats didnt know you needed to be certified but I guess its a good idea Friendly staff and a great dog trainer too                                                                                                                                                                                                                                                                                                                                                                                                                                                                                                                                                                                                                                                                                                                                                                                                                                                                                                                                                                                                                                                                                                                                                                                                                                                                                                                                                                                                                                                                                                                                                                                                                                                                                                                                                                                                        |4.0  |\n",
      "|After agonizing over where to have our one upscale meal in Montreal we decided on Chez Lepicier  We were glad we did  We did the tasting menu will wine pairings note that 2 courses do not come paired and our journey included a savory macaroon amuse bouche gazpacho gnocci cod goose foix gras and more  The tastes were small but hearty most with a delicious inventive sauce  The wines were great and ran the gamut of classic French wines and were well paired  \n",
      "\n",
      "The service was perfectly paced with our server prepping our next course and pouring wine and another server serving and explaining each dish\n",
      "\n",
      "We were able to get a same day reservation on a Monday night  The space was about 34 full and the meal took 25 hours due to the numerous tastings and relaxed pace  The decor is modern chic and there is a bar area to do bitesdrinks  \n",
      "\n",
      "Dress code  you will not feel out of place if you arent in a jacket  but Id recommend making this your dress up night                                                                                                                                                                                                                                                                                                                                                                                                                                                                                                                                                                                                                                                                                                                                                                                                                                                                                                                                                                                                                                                                                                                                                                                                                                                    |4.0  |\n",
      "|Even though a few flavours have been hit or miss for me here maple was meh and there was a weird aftertaste to mint chocolate chip I still look forward to trying flavours out from here because when the flavour is right on its amazing                                                                                                                                                                                                                                                                                                                                                                                                                                                                                                                                                                                                                                                                                                                                                                                                                                                                                                                                                                                                                                                                                                                                                                                                                                                                                                                                                                                                                                                                                                                                                                                                                                                                                                                                                                                                                                                                                                                                                                                                      |4.0  |\n",
      "|No stars yes no stars the app made me select one to post the complete bs I just witnessed as a customer left me with a real stale taste in my mouth This is the first dine in experience where the stale taste wasnt caused by the food I went with my family to this location for lunch The place was busy which is exactly what any good store manager would want however a good store manager would also want their customers leaving there location feeling respected valued  fully satisfied with their dine in experience Our experience started out great but it slowly showed signs that it was headed down hill when our burgers came to the table before our salads and shakes We usually frequent the Parmatown location They seem so much more professional When our shakes were delivered to the table the chocolate shake made it to the table but the strawberry banana shake was poured into my wifes lap As you can imagine this feels great in an air conditioned room while wearing shorts The shake poured straight down my wifes bare leg into her shoe and onto the floor My wife received a borage of Im sorrys which is awesome and conveys how the workers were feeling at the time The most important question or worry during this situation is 1 How does the customer feel 2 How can we help them 3 What can we do to rectify the situation In retrospect all we received was late food apologies wet pants napkins and a bill to pay for it all Yes a bill The manager came over attempting to offer apologies and a mop Not once did she offer a solution to rectify my wifes ruined clothes and meal I as her husband had to speak up and ask for some type of resolution Some people have the knack to be a store manager while others just dont This type of manager is what I commonly refer to as a floater Floaters are managers who do just enough to maintain current numbers and current status quo They really have no talent or abilities which are beneficial to improving the overall profitability or running of the store When this location implements points 12 3 they will be taking a step in the right direction It is needless to say that we wont be back anytime soon nor recommending it|1.0  |\n",
      "|Not bad at all  The standard dishes  chinese broccoli xiu mai ha cao chicken feet black bean pork ribs steamed bbq pork bun shrimp wrapped in thick rice noodle chinese donut wrapped in rice noodle  were all aok  The rice and chicken served in a vertical bamboo cup was tasty flavors were similar to Vietnamese com ga with ginger light soy and chicken  The xiu mai had orangeyellow eggs on it which tasted like crab innardstomalmustard rich and super flavorful  All the dumplings were packed with meat andor seafood and not a lot of fillers yay  The only downside is that the offerings are limiteduninspired just the basics  Id come back if I were in LV and craving dim sum\n",
      "\n",
      "Other important info small establishment push cart servers prices are higher than CA but definitely reasonable located inside Gold Coast Hotel off the Strip next to RIo and across from the Palms                                                                                                                                                                                                                                                                                                                                                                                                                                                                                                                                                                                                                                                                                                                                                                                                                                                                                                                                                                                                                                                                                                                                                                                                                                                                                                                                           |3.0  |\n",
      "|So arrived at 530 and sat outside ordered by 535 then we waited and waited and waited No one checked on us 2 people until 615 At that point we asked for our food to go Got that and the checks at 620 Finally able to pay and leave by 630\n",
      "Probably some of  the worst service I have received At least if you are running behind or food is taking awhile you come back and explain andor apologize Instead we were left wondering and waiting for our food Obviously that never came until we said we were going to leave and take it with us You would think at that point they would have apologized or taken something off the check but no nothing\n",
      "Chances are I wont be back That is unfortunate as we spend a lot of time in the area and this would have been a great outdoor spot\n",
      "To top it off when I got home and opened the soggy boxes I was very disappointed at what I paid 11 for                                                                                                                                                                                                                                                                                                                                                                                                                                                                                                                                                                                                                                                                                                                                                                                                                                                                                                                                                                                                                                                                                                                                                                                                                                                                                                                                            |1.0  |\n",
      "|Excellent Excellent Excellent I have been to many hibachis and the menu here was extensive Not just steak shrimp chicken They hadnt swordfish shark and other exotic stuff Lots of food I was stuffed on my 23 swordfish                                                                                                                                                                                                                                                                                                                                                                                                                                                                                                                                                                                                                                                                                                                                                                                                                                                                                                                                                                                                                                                                                                                                                                                                                                                                                                                                                                                                                                                                                                                                                                                                                                                                                                                                                                                                                                                                                                                                                                                                                       |5.0  |\n",
      "|We go to Vegas at least twice a year and most often stay at the MGM but have stayed up and down the strip  Encore  Wynn Caesars Luxor Planet Hollywood Flamingo and Palms This time we decided to stay at THEhotel and without a doubt we have found our Vegas home Checkin was friendly and helpful We arrived about 1030 and they checked our bags so we could go to the pool and then called when our room was ready Friends had raved about the pool  Mandalay and they were right The wave pool and lazy river combo kept our daughter entertained for hours We atedrank everyplace by the pool and what we really liked is not only the friendliness of the staff but how we didnt feel milked for every last penny Food drink lattes and pastries in the morning and dinner at House of Blues were all very reasonable and help to guarantee that well be taking the trip back more often The Junior Suite is more than enough room for our family and that space was helpful so we could relax as a couple and as a family Bell and valet service was extremely prompt All in all a great time and it looks like weve found our home in Vegas                                                                                                                                                                                                                                                                                                                                                                                                                                                                                                                                                                                                                                                                                                                                                                                                                                                                                                                                                                                                                                                                                          |5.0  |\n",
      "|Good flavor fast delivery everything is HOT when it gets here  Order all the time and have never had a bad experience  My favorite is the Wonton Soup and House Chow Fun but dont forget the Crab Rangoon                                                                                                                                                                                                                                                                                                                                                                                                                                                                                                                                                                                                                                                                                                                                                                                                                                                                                                                                                                                                                                                                                                                                                                                                                                                                                                                                                                                                                                                                                                                                                                                                                                                                                                                                                                                                                                                                                                                                                                                                                                      |5.0  |\n",
      "|First time here and the menu is a little overwhelming with so many options Loved the food okay coffee great service Will definitely be back                                                                                                                                                                                                                                                                                                                                                                                                                                                                                                                                                                                                                                                                                                                                                                                                                                                                                                                                                                                                                                                                                                                                                                                                                                                                                                                                                                                                                                                                                                                                                                                                                                                                                                                                                                                                                                                                                                                                                                                                                                                                                                    |5.0  |\n",
      "|I was shocked that a half of southwest chicken salad was 600 I realize at the airport you typically pay more but I found this a big rip off  Not to mention it was not big at all It was worth perhaps 400 total                                                                                                                                                                                                                                                                                                                                                                                                                                                                                                                                                                                                                                                                                                                                                                                                                                                                                                                                                                                                                                                                                                                                                                                                                                                                                                                                                                                                                                                                                                                                                                                                                                                                                                                                                                                                                                                                                                                                                                                                                               |1.0  |\n",
      "|Large portions Great bread sticks Chicken parmesan was top quality                                                                                                                                                                                                                                                                                                                                                                                                                                                                                                                                                                                                                                                                                                                                                                                                                                                                                                                                                                                                                                                                                                                                                                                                                                                                                                                                                                                                                                                                                                                                                                                                                                                                                                                                                                                                                                                                                                                                                                                                                                                                                                                                                                             |5.0  |\n",
      "|This is a great local bar Owners have a great sense of humor They will help you try any beer and know what you like Great times and great music                                                                                                                                                                                                                                                                                                                                                                                                                                                                                                                                                                                                                                                                                                                                                                                                                                                                                                                                                                                                                                                                                                                                                                                                                                                                                                                                                                                                                                                                                                                                                                                                                                                                                                                                                                                                                                                                                                                                                                                                                                                                                                |5.0  |\n",
      "|Always good  One of the best places to eat in the Phoenix area  I always get the Purista which has a generous helping of imported parma ham prosciutto  Get it with sliced sourdough so the amount of bread doesnt overwhelm the experience  They have an excellent wine selection and much to choose from for imported Italian foods  It gets busy so plan ahead and bring someone with you to grab a table while you order                                                                                                                                                                                                                                                                                                                                                                                                                                                                                                                                                                                                                                                                                                                                                                                                                                                                                                                                                                                                                                                                                                                                                                                                                                                                                                                                                                                                                                                                                                                                                                                                                                                                                                                                                                                                                   |5.0  |\n",
      "|Wonderful service Dr Andersen and her staff were knowledgable and very friendly The facility is very clean and well organized they have an open door policy and have puppy visits which help socialize your new pup Great boarding options and I love how they have puppy cameras available to ease your mind                                                                                                                                                                                                                                                                                                                                                                                                                                                                                                                                                                                                                                                                                                                                                                                                                                                                                                                                                                                                                                                                                                                                                                                                                                                                                                                                                                                                                                                                                                                                                                                                                                                                                                                                                                                                                                                                                                                                  |4.0  |\n",
      "|On the weeklong trip to Calgary this was my first stop for a lunch Mirchi is a small casual dining restaurant in the downtown Calgary It does not have its own parking but there is some parking close by on the street Good things first for a small place it is neat with nice decor The service is fast and the presentation great Menu has a variety to chose from I decided to try out goat karahi I confess that it was a tricky dish to chose from because barring a handful almost all places in North America fail at it And the it failed the authenticity test Goat in IndianPakistani cuisine should not have that peculiar aroma that you commonly find in Mediterranean lamb or goat dishes That said the garlic naan was really good so was the dessert kheer I will see if i decide to come back on this trip to try some other stuff and update the review                                                                                                                                                                                                                                                                                                                                                                                                                                                                                                                                                                                                                                                                                                                                                                                                                                                                                                                                                                                                                                                                                                                                                                                                                                                                                                                                                                    |3.0  |\n",
      "|Awesome burgers great atmosphere attentive wait staff \n",
      "\n",
      "Ordered the Lola Burger and I keep dreaming of it so I must return soon Also got a custom alcohol milkshake vanilla bean and apple pie with bourbon that alone was one of the best mixtures Ive ever had\n",
      "\n",
      "We arrived during lunch on a Monday and was immediately seated After arriving the place was packed \n",
      "\n",
      "It was my husband and I and he ordered the Porky burger and he is also very happy\n",
      "\n",
      "We complimented our lunch with Lola fries and onion ringsperfect lunch not to mention our daughters name is Lola\n",
      "\n",
      "Definitely a laid back atmosphere with awesome burgers better than many places that state the same claim and great beverages I only wish it was closer to home                                                                                                                                                                                                                                                                                                                                                                                                                                                                                                                                                                                                                                                                                                                                                                                                                                                                                                                                                                                                                                                                                                                                                                                                                                                                                                                                                                                                                                                                                                     |5.0  |\n",
      "+-----------------------------------------------------------------------------------------------------------------------------------------------------------------------------------------------------------------------------------------------------------------------------------------------------------------------------------------------------------------------------------------------------------------------------------------------------------------------------------------------------------------------------------------------------------------------------------------------------------------------------------------------------------------------------------------------------------------------------------------------------------------------------------------------------------------------------------------------------------------------------------------------------------------------------------------------------------------------------------------------------------------------------------------------------------------------------------------------------------------------------------------------------------------------------------------------------------------------------------------------------------------------------------------------------------------------------------------------------------------------------------------------------------------------------------------------------------------------------------------------------------------------------------------------------------------------------------------------------------------------------------------------------------------------------------------------------------------------------------------------------------------------------------------------------------------------------------------------------------------------------------------------------------------------------------------------------------------------------------------------------------------------------------------------------------------------------------------------------------------------------------------------------------------------------------------------------------------------------------------------+-----+\n",
      "only showing top 20 rows\n",
      "\n"
     ]
    }
   ],
   "source": [
    "subreviews_df.show(20, False)"
   ]
  },
  {
   "cell_type": "markdown",
   "metadata": {},
   "source": [
    "# Tokenizzazione"
   ]
  },
  {
   "cell_type": "code",
   "execution_count": 13,
   "metadata": {},
   "outputs": [
    {
     "name": "stdout",
     "output_type": "stream",
     "text": [
      "+--------------------+-----+--------------------+\n",
      "|                text|stars|               words|\n",
      "+--------------------+-----+--------------------+\n",
      "|So many great thi...|  5.0|[so, many, great,...|\n",
      "|If I could give t...|  1.0|[if, i, could, gi...|\n",
      "|Lovely food I am ...|  5.0|[lovely, food, i,...|\n",
      "|Weve always been ...|  4.0|[weve, always, be...|\n",
      "|After agonizing o...|  4.0|[after, agonizing...|\n",
      "|Even though a few...|  4.0|[even, though, a,...|\n",
      "|No stars yes no s...|  1.0|[no, stars, yes, ...|\n",
      "|Not bad at all  T...|  3.0|[not, bad, at, al...|\n",
      "|So arrived at 530...|  1.0|[so, arrived, at,...|\n",
      "|Excellent Excelle...|  5.0|[excellent, excel...|\n",
      "|We go to Vegas at...|  5.0|[we, go, to, vega...|\n",
      "|Good flavor fast ...|  5.0|[good, flavor, fa...|\n",
      "|First time here a...|  5.0|[first, time, her...|\n",
      "|I was shocked tha...|  1.0|[i, was, shocked,...|\n",
      "|Large portions Gr...|  5.0|[large, portions,...|\n",
      "|This is a great l...|  5.0|[this, is, a, gre...|\n",
      "|Always good  One ...|  5.0|[always, good, , ...|\n",
      "|Wonderful service...|  4.0|[wonderful, servi...|\n",
      "|On the weeklong t...|  3.0|[on, the, weeklon...|\n",
      "|Awesome burgers g...|  5.0|[awesome, burgers...|\n",
      "+--------------------+-----+--------------------+\n",
      "only showing top 20 rows\n",
      "\n"
     ]
    }
   ],
   "source": [
    "from pyspark.ml.feature import Tokenizer\n",
    "\n",
    "tokenizer = Tokenizer(inputCol='text', outputCol=\"words\")\n",
    "words_df = tokenizer.transform(subreviews_df)\n",
    "\n",
    "words_df.show()"
   ]
  },
  {
   "cell_type": "markdown",
   "metadata": {},
   "source": [
    "# Rimozione StopWords"
   ]
  },
  {
   "cell_type": "code",
   "execution_count": 16,
   "metadata": {},
   "outputs": [
    {
     "name": "stdout",
     "output_type": "stream",
     "text": [
      "+--------------------+-----+--------------------+--------------------+\n",
      "|                text|stars|               words|            filtered|\n",
      "+--------------------+-----+--------------------+--------------------+\n",
      "|So many great thi...|  5.0|[so, many, great,...|[many, great, yog...|\n",
      "|If I could give t...|  1.0|[if, i, could, gi...|[give, place, 0, ...|\n",
      "|Lovely food I am ...|  5.0|[lovely, food, i,...|[lovely, food, al...|\n",
      "|Weve always been ...|  4.0|[weve, always, be...|[weve, always, cu...|\n",
      "|After agonizing o...|  4.0|[after, agonizing...|[agonizing, one, ...|\n",
      "|Even though a few...|  4.0|[even, though, a,...|[even, though, fl...|\n",
      "|No stars yes no s...|  1.0|[no, stars, yes, ...|[stars, yes, star...|\n",
      "|Not bad at all  T...|  3.0|[not, bad, at, al...|[bad, , standard,...|\n",
      "|So arrived at 530...|  1.0|[so, arrived, at,...|[arrived, 530, sa...|\n",
      "|Excellent Excelle...|  5.0|[excellent, excel...|[excellent, excel...|\n",
      "|We go to Vegas at...|  5.0|[we, go, to, vega...|[go, vegas, least...|\n",
      "|Good flavor fast ...|  5.0|[good, flavor, fa...|[good, flavor, fa...|\n",
      "|First time here a...|  5.0|[first, time, her...|[first, time, men...|\n",
      "|I was shocked tha...|  1.0|[i, was, shocked,...|[shocked, half, s...|\n",
      "|Large portions Gr...|  5.0|[large, portions,...|[large, portions,...|\n",
      "|This is a great l...|  5.0|[this, is, a, gre...|[great, local, ba...|\n",
      "|Always good  One ...|  5.0|[always, good, , ...|[always, good, , ...|\n",
      "|Wonderful service...|  4.0|[wonderful, servi...|[wonderful, servi...|\n",
      "|On the weeklong t...|  3.0|[on, the, weeklon...|[weeklong, trip, ...|\n",
      "|Awesome burgers g...|  5.0|[awesome, burgers...|[awesome, burgers...|\n",
      "+--------------------+-----+--------------------+--------------------+\n",
      "only showing top 20 rows\n",
      "\n"
     ]
    }
   ],
   "source": [
    "from pyspark.ml.feature import StopWordsRemover\n",
    "\n",
    "stopwords = StopWordsRemover(inputCol=\"words\", outputCol=\"filtered\")\n",
    "words_df = stopwords.transform(words_df)\n",
    "\n",
    "words_df.show(20)"
   ]
  },
  {
   "cell_type": "markdown",
   "metadata": {},
   "source": [
    "# Creiamo un model bag of words"
   ]
  },
  {
   "cell_type": "code",
   "execution_count": 18,
   "metadata": {
    "scrolled": true
   },
   "outputs": [
    {
     "name": "stderr",
     "output_type": "stream",
     "text": [
      "Exception ignored in: <function JavaWrapper.__del__ at 0x7fecc95bcc20>\n",
      "Traceback (most recent call last):\n",
      "  File \"/home/sparkmachine/spark/python/pyspark/ml/wrapper.py\", line 40, in __del__\n",
      "    if SparkContext._active_spark_context and self._java_obj is not None:\n",
      "AttributeError: 'StopWordsRemover' object has no attribute '_java_obj'\n"
     ]
    },
    {
     "name": "stdout",
     "output_type": "stream",
     "text": [
      "+--------------------+-----+--------------------+--------------------+--------------------+\n",
      "|                text|stars|               words|            filtered|            features|\n",
      "+--------------------+-----+--------------------+--------------------+--------------------+\n",
      "|So many great thi...|  5.0|[so, many, great,...|[many, great, yog...|(93719,[0,1,3,4,5...|\n",
      "|If I could give t...|  1.0|[if, i, could, gi...|[give, place, 0, ...|(93719,[0,1,3,5,6...|\n",
      "|Lovely food I am ...|  5.0|[lovely, food, i,...|[lovely, food, al...|(93719,[1,3,4,5,7...|\n",
      "|Weve always been ...|  4.0|[weve, always, be...|[weve, always, cu...|(93719,[0,1,3,4,5...|\n",
      "|After agonizing o...|  4.0|[after, agonizing...|[agonizing, one, ...|(93719,[0,1,2,4,5...|\n",
      "|Even though a few...|  4.0|[even, though, a,...|[even, though, fl...|(93719,[0,1,3,4,5...|\n",
      "|No stars yes no s...|  1.0|[no, stars, yes, ...|[stars, yes, star...|(93719,[0,1,2,3,4...|\n",
      "|Not bad at all  T...|  3.0|[not, bad, at, al...|[bad, , standard,...|(93719,[0,1,2,3,4...|\n",
      "|So arrived at 530...|  1.0|[so, arrived, at,...|[arrived, 530, sa...|(93719,[0,1,2,3,4...|\n",
      "|Excellent Excelle...|  5.0|[excellent, excel...|[excellent, excel...|(93719,[0,1,3,5,6...|\n",
      "|We go to Vegas at...|  5.0|[we, go, to, vega...|[go, vegas, least...|(93719,[0,1,2,4,5...|\n",
      "|Good flavor fast ...|  5.0|[good, flavor, fa...|[good, flavor, fa...|(93719,[0,1,2,4,8...|\n",
      "|First time here a...|  5.0|[first, time, her...|[first, time, men...|(93719,[0,1,4,9,1...|\n",
      "|I was shocked tha...|  1.0|[i, was, shocked,...|[shocked, half, s...|(93719,[0,2,3,4,5...|\n",
      "|Large portions Gr...|  5.0|[large, portions,...|[large, portions,...|(93719,[6,35,114,...|\n",
      "|This is a great l...|  5.0|[this, is, a, gre...|[great, local, ba...|(93719,[1,4,7,9,1...|\n",
      "|Always good  One ...|  5.0|[always, good, , ...|[always, good, , ...|(93719,[0,1,2,3,4...|\n",
      "|Wonderful service...|  4.0|[wonderful, servi...|[wonderful, servi...|(93719,[0,1,3,5,9...|\n",
      "|On the weeklong t...|  3.0|[on, the, weeklon...|[weeklong, trip, ...|(93719,[0,1,3,4,5...|\n",
      "|Awesome burgers g...|  5.0|[awesome, burgers...|[awesome, burgers...|(93719,[0,1,2,3,4...|\n",
      "+--------------------+-----+--------------------+--------------------+--------------------+\n",
      "only showing top 20 rows\n",
      "\n"
     ]
    }
   ],
   "source": [
    "from pyspark.ml.feature import CountVectorizer\n",
    "\n",
    "cv = CountVectorizer(inputCol=\"words\", outputCol=\"features\")\n",
    "cv_model = cv.fit(words_df)\n",
    "cv_df = cv_model.transform(words_df)\n",
    "\n",
    "cv_df.show(20)"
   ]
  },
  {
   "cell_type": "code",
   "execution_count": null,
   "metadata": {},
   "outputs": [],
   "source": []
  }
 ],
 "metadata": {
  "kernelspec": {
   "display_name": "Python 3",
   "language": "python",
   "name": "python3"
  },
  "language_info": {
   "codemirror_mode": {
    "name": "ipython",
    "version": 3
   },
   "file_extension": ".py",
   "mimetype": "text/x-python",
   "name": "python",
   "nbconvert_exporter": "python",
   "pygments_lexer": "ipython3",
   "version": "3.7.5"
  }
 },
 "nbformat": 4,
 "nbformat_minor": 4
}
