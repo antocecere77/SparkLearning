{
 "cells": [
  {
   "cell_type": "markdown",
   "metadata": {},
   "source": [
    "# Regressione Lineare con Spark MLlib\n",
    "\n",
    "### In questo notebook vedremo come eseguire una semplice regressione, utilizzando un modello di Regressione Lineare, con il modulo MLlib di Spark. Il modello che andremo a creare avrà lo scopo di stimare il valore di un'abitazione utilizzando un set di proprietà:\n",
    "\n",
    "### CRIM Tasso di criminalità per capita\n",
    "### ZN Percentuale di terreni residenziali suddivisi in zone per lotti superiori a 25.000 sq.ft.\n",
    "### INDUS Percentuale di ettari di attività non al dettaglio per città.\n",
    "### CHAS Variabile dummy che indica la prossimità al fiume Charles.\n",
    "### NOX Concentrazione di ossido d'azoto (parti per 10 milioni).\n",
    "### RM Numero medio di stanze per abitazione\n",
    "### AGE Percentuale di abitazione occupate costruite dopo il 1940\n",
    "### DIS Media pesata delle distanze da 5 centri lavorativi di Boston.\n",
    "### RAD Indice di accessibilità ad autostrade\n",
    "### TAX Aliquota dell'imposta sulla proprietà a valore pieno in 10.000 USD.\n",
    "### PRATIO Rapporto studente-insegnante per città.\n",
    "### BLACK 1000(Bk - 0.63)^2 dove Bk è la percentuale di abitanti di colore per città\n",
    "### LSTAT Percentuale della popolazione povera\n",
    "### MEDV Mediana del valore di abitazioni occupate in 1.000 USD."
   ]
  },
  {
   "cell_type": "code",
   "execution_count": 2,
   "metadata": {},
   "outputs": [],
   "source": [
    "from pyspark.sql import SparkSession\n",
    "\n",
    "spark = SparkSession.builder.appName(\"regression\").getOrCreate()"
   ]
  },
  {
   "cell_type": "code",
   "execution_count": 3,
   "metadata": {},
   "outputs": [
    {
     "name": "stdout",
     "output_type": "stream",
     "text": [
      "+-------+----+-----+----+-----+-----+----+------+---+---+-------+------+-----+\n",
      "|   crim|  zn|indus|chas|  nox|   rm| age|   dis|rad|tax|ptratio| black|lstat|\n",
      "+-------+----+-----+----+-----+-----+----+------+---+---+-------+------+-----+\n",
      "|0.05789|12.5| 6.07|   0|0.409|5.878|21.4| 6.498|  4|345|   18.9|396.21|  8.1|\n",
      "|0.13554|12.5| 6.07|   0|0.409|5.594|36.8| 6.498|  4|345|   18.9| 396.9|13.09|\n",
      "|0.08826| 0.0|10.81|   0|0.413|6.417| 6.6|5.2873|  4|305|   19.2|383.73| 6.72|\n",
      "|0.09164| 0.0|10.81|   0|0.413|6.065| 7.8|5.2873|  4|305|   19.2|390.91| 5.52|\n",
      "|0.19539| 0.0|10.81|   0|0.413|6.245| 6.2|5.2873|  4|305|   19.2|377.17| 7.54|\n",
      "+-------+----+-----+----+-----+-----+----+------+---+---+-------+------+-----+\n",
      "only showing top 5 rows\n",
      "\n"
     ]
    }
   ],
   "source": [
    "housing_df = spark.read.csv(\"./data/houses.csv\", inferSchema=True, header=True)\n",
    "housing_df.show(5)"
   ]
  },
  {
   "cell_type": "code",
   "execution_count": null,
   "metadata": {},
   "outputs": [],
   "source": []
  }
 ],
 "metadata": {
  "kernelspec": {
   "display_name": "Python 3",
   "language": "python",
   "name": "python3"
  },
  "language_info": {
   "codemirror_mode": {
    "name": "ipython",
    "version": 3
   },
   "file_extension": ".py",
   "mimetype": "text/x-python",
   "name": "python",
   "nbconvert_exporter": "python",
   "pygments_lexer": "ipython3",
   "version": "3.7.5"
  }
 },
 "nbformat": 4,
 "nbformat_minor": 4
}
